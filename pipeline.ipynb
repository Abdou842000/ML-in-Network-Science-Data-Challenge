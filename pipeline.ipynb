{
  "cells": [
    {
      "cell_type": "markdown",
      "metadata": {
        "id": "jarcy-AG7iuj"
      },
      "source": [
        "# MLNS data challenge"
      ]
    },
    {
      "cell_type": "markdown",
      "metadata": {
        "id": "aYRQoEnl7p3w"
      },
      "source": [
        "Guillaume Levy, Clement Wang, Adberrahim Namouh, Gaspard Berthelier"
      ]
    },
    {
      "cell_type": "markdown",
      "metadata": {
        "id": "dI-S9PGv72nN"
      },
      "source": [
        "## Imports"
      ]
    },
    {
      "cell_type": "code",
      "execution_count": 1,
      "metadata": {
        "colab": {
          "base_uri": "https://localhost:8080/"
        },
        "id": "YK6riFIesU89",
        "outputId": "fce6d3ff-7642-480d-9e95-0d5e3e064b82"
      },
      "outputs": [
        {
          "output_type": "stream",
          "name": "stdout",
          "text": [
            "Collecting node2vec\n",
            "  Downloading node2vec-0.4.6-py3-none-any.whl (7.0 kB)\n",
            "Requirement already satisfied: gensim<5.0.0,>=4.1.2 in /usr/local/lib/python3.10/dist-packages (from node2vec) (4.3.2)\n",
            "Requirement already satisfied: joblib<2.0.0,>=1.1.0 in /usr/local/lib/python3.10/dist-packages (from node2vec) (1.3.2)\n",
            "Collecting networkx<3.0,>=2.5 (from node2vec)\n",
            "  Downloading networkx-2.8.8-py3-none-any.whl (2.0 MB)\n",
            "\u001b[2K     \u001b[90m━━━━━━━━━━━━━━━━━━━━━━━━━━━━━━━━━━━━━━━━\u001b[0m \u001b[32m2.0/2.0 MB\u001b[0m \u001b[31m9.6 MB/s\u001b[0m eta \u001b[36m0:00:00\u001b[0m\n",
            "\u001b[?25hRequirement already satisfied: numpy<2.0.0,>=1.19.5 in /usr/local/lib/python3.10/dist-packages (from node2vec) (1.25.2)\n",
            "Requirement already satisfied: tqdm<5.0.0,>=4.55.1 in /usr/local/lib/python3.10/dist-packages (from node2vec) (4.66.2)\n",
            "Requirement already satisfied: scipy>=1.7.0 in /usr/local/lib/python3.10/dist-packages (from gensim<5.0.0,>=4.1.2->node2vec) (1.11.4)\n",
            "Requirement already satisfied: smart-open>=1.8.1 in /usr/local/lib/python3.10/dist-packages (from gensim<5.0.0,>=4.1.2->node2vec) (6.4.0)\n",
            "Installing collected packages: networkx, node2vec\n",
            "  Attempting uninstall: networkx\n",
            "    Found existing installation: networkx 3.2.1\n",
            "    Uninstalling networkx-3.2.1:\n",
            "      Successfully uninstalled networkx-3.2.1\n",
            "\u001b[31mERROR: pip's dependency resolver does not currently take into account all the packages that are installed. This behaviour is the source of the following dependency conflicts.\n",
            "torch 2.2.1+cu121 requires nvidia-cublas-cu12==12.1.3.1; platform_system == \"Linux\" and platform_machine == \"x86_64\", which is not installed.\n",
            "torch 2.2.1+cu121 requires nvidia-cuda-cupti-cu12==12.1.105; platform_system == \"Linux\" and platform_machine == \"x86_64\", which is not installed.\n",
            "torch 2.2.1+cu121 requires nvidia-cuda-nvrtc-cu12==12.1.105; platform_system == \"Linux\" and platform_machine == \"x86_64\", which is not installed.\n",
            "torch 2.2.1+cu121 requires nvidia-cuda-runtime-cu12==12.1.105; platform_system == \"Linux\" and platform_machine == \"x86_64\", which is not installed.\n",
            "torch 2.2.1+cu121 requires nvidia-cudnn-cu12==8.9.2.26; platform_system == \"Linux\" and platform_machine == \"x86_64\", which is not installed.\n",
            "torch 2.2.1+cu121 requires nvidia-cufft-cu12==11.0.2.54; platform_system == \"Linux\" and platform_machine == \"x86_64\", which is not installed.\n",
            "torch 2.2.1+cu121 requires nvidia-curand-cu12==10.3.2.106; platform_system == \"Linux\" and platform_machine == \"x86_64\", which is not installed.\n",
            "torch 2.2.1+cu121 requires nvidia-cusolver-cu12==11.4.5.107; platform_system == \"Linux\" and platform_machine == \"x86_64\", which is not installed.\n",
            "torch 2.2.1+cu121 requires nvidia-cusparse-cu12==12.1.0.106; platform_system == \"Linux\" and platform_machine == \"x86_64\", which is not installed.\n",
            "torch 2.2.1+cu121 requires nvidia-nccl-cu12==2.19.3; platform_system == \"Linux\" and platform_machine == \"x86_64\", which is not installed.\n",
            "torch 2.2.1+cu121 requires nvidia-nvtx-cu12==12.1.105; platform_system == \"Linux\" and platform_machine == \"x86_64\", which is not installed.\u001b[0m\u001b[31m\n",
            "\u001b[0mSuccessfully installed networkx-2.8.8 node2vec-0.4.6\n"
          ]
        }
      ],
      "source": [
        "!pip install node2vec"
      ]
    },
    {
      "cell_type": "code",
      "execution_count": 2,
      "metadata": {
        "colab": {
          "base_uri": "https://localhost:8080/"
        },
        "id": "FrcM_c-W87Dj",
        "outputId": "90bf0dd6-42c7-4872-ddc3-cdd4402b46dc"
      },
      "outputs": [
        {
          "output_type": "stream",
          "name": "stdout",
          "text": [
            "Mounted at /content/drive\n",
            "/content/drive/My Drive/MLNS/data_challenge\n"
          ]
        }
      ],
      "source": [
        "from google.colab import drive\n",
        "drive.mount('/content/drive')\n",
        "%cd /content/drive/My Drive/MLNS/data_challenge"
      ]
    },
    {
      "cell_type": "code",
      "execution_count": 3,
      "metadata": {
        "id": "WbqOD9W77e0S"
      },
      "outputs": [],
      "source": [
        "import pandas as pd\n",
        "import numpy as np\n",
        "import seaborn as sns\n",
        "import matplotlib.pyplot as plt\n",
        "import networkx as nx\n",
        "\n",
        "from xgboost import XGBClassifier\n",
        "from sklearn.ensemble import RandomForestClassifier\n",
        "from sklearn.model_selection import train_test_split\n",
        "from sklearn.metrics import accuracy_score\n",
        "from sklearn.metrics.pairwise import cosine_similarity\n",
        "from node2vec import Node2Vec\n",
        "from functools import partial\n",
        "from tqdm.notebook import tqdm\n",
        "import itertools\n",
        "from time import perf_counter"
      ]
    },
    {
      "cell_type": "markdown",
      "metadata": {
        "id": "ZzCp8lY879OW"
      },
      "source": [
        "## Load Data"
      ]
    },
    {
      "cell_type": "code",
      "execution_count": 4,
      "metadata": {
        "colab": {
          "base_uri": "https://localhost:8080/"
        },
        "id": "cHww2gat7e0V",
        "outputId": "919b35a0-0ab1-4752-b6fc-8d465788e320"
      },
      "outputs": [
        {
          "output_type": "stream",
          "name": "stdout",
          "text": [
            "Train shape :  (8398, 3)\n",
            "Val shape:  (2098, 3)\n",
            "Test shape :  (3498, 2)\n",
            "Node info shape :  (3597, 933)\n"
          ]
        }
      ],
      "source": [
        "# Load the node information with embeddings\n",
        "node_info = pd.read_csv(\"data/node_information.csv\", header=None)\n",
        "node_info.columns = [\"node_id\"] + [f\"embedding_{i}\" for i in range(1, 933)]\n",
        "\n",
        "# Load training and testing sets\n",
        "train_data = pd.read_csv(\n",
        "    \"data/train_split.csv\",\n",
        "    header=0,\n",
        "    names=[\"source_node\", \"target_node\", \"label\"],\n",
        ")\n",
        "val_data = pd.read_csv(\n",
        "    \"data/val_split.csv\",\n",
        "    header=0,\n",
        "    names=[\"source_node\", \"target_node\", \"label\"],\n",
        ")\n",
        "test_data = pd.read_csv(\n",
        "    \"data/test.txt\", header=None, sep=\" \", names=[\"source_node\", \"target_node\"]\n",
        ")\n",
        "\n",
        "# Shuffle\n",
        "train_data = train_data.sample(frac=1)\n",
        "val_data = val_data.sample(frac=1)\n",
        "\n",
        "print(\"Train shape : \", train_data.shape)\n",
        "print(\"Val shape: \", val_data.shape)\n",
        "print(\"Test shape : \", test_data.shape)\n",
        "print(\"Node info shape : \", node_info.shape)"
      ]
    },
    {
      "cell_type": "code",
      "execution_count": 5,
      "metadata": {
        "colab": {
          "base_uri": "https://localhost:8080/",
          "height": 0,
          "referenced_widgets": [
            "19149889258a4517838a360ce0a8774a",
            "42f234b3482045cf88903fc6578ad5d9",
            "2c8d5f411dde40779eae09199514ae5d",
            "7f550da892c6438ebd52397227540f7f",
            "92e4167c401942d6bfa6b227b1e46f0b",
            "bd73b7e1c4864c68ae63ab2794ce8e51",
            "1ffa7829947f48ca8bb7d633aab92243",
            "c850fe2757fc4ce7a22090ec38595f81",
            "3b5884dd752e4427a0721dae412ff595",
            "575eea9c38d54e2a890adad19457d543",
            "7b0551ae4ad945ebb45262adce85a215"
          ]
        },
        "id": "UGlae-zi1Q0i",
        "outputId": "5bd65402-a8ae-4778-99b4-8129ff3ce089"
      },
      "outputs": [
        {
          "output_type": "display_data",
          "data": {
            "text/plain": [
              "  0%|          | 0/932 [00:00<?, ?it/s]"
            ],
            "application/vnd.jupyter.widget-view+json": {
              "version_major": 2,
              "version_minor": 0,
              "model_id": "19149889258a4517838a360ce0a8774a"
            }
          },
          "metadata": {}
        }
      ],
      "source": [
        "# Create train graph and add node attributes\n",
        "train_graph = train_data[train_data.label == 1]\n",
        "G: nx.Graph = nx.from_edgelist(train_graph[[\"source_node\", \"target_node\"]].values)\n",
        "for i in tqdm(range(1, 933)):\n",
        "    nx.set_node_attributes(\n",
        "        G, node_info.set_index(\"node_id\")[f\"embedding_{i}\"].to_dict(), f\"embedding_{i}\"\n",
        "    )\n",
        "assert nx.is_connected(G)"
      ]
    },
    {
      "cell_type": "code",
      "execution_count": 6,
      "metadata": {
        "colab": {
          "base_uri": "https://localhost:8080/"
        },
        "id": "3Dm-KKVCsDtT",
        "outputId": "68757e15-938a-4b56-ba0e-73a7b6a9388f"
      },
      "outputs": [
        {
          "output_type": "stream",
          "name": "stdout",
          "text": [
            "Graph shape : 3597 nodes , 4199 edges\n"
          ]
        }
      ],
      "source": [
        "print(f\"Graph shape : {len(G.nodes())} nodes , {len(G.edges())} edges\")"
      ]
    },
    {
      "cell_type": "markdown",
      "metadata": {
        "id": "dk6kM465sDtU"
      },
      "source": [
        "## Data Analysis"
      ]
    },
    {
      "cell_type": "code",
      "execution_count": 7,
      "metadata": {
        "colab": {
          "base_uri": "https://localhost:8080/"
        },
        "id": "7hTNaJ3x9d36",
        "outputId": "d50c9fc8-7f05-469e-9e40-1f1c503b750f"
      },
      "outputs": [
        {
          "output_type": "stream",
          "name": "stdout",
          "text": [
            "Unique train & val nodes :  741\n",
            "Unique test nodes :  0\n"
          ]
        }
      ],
      "source": [
        "train_nodes = set(train_data.source_node).union(set(train_data.target_node))\n",
        "val_nodes = set(val_data.source_node).union(set(val_data.target_node))\n",
        "test_nodes = set(test_data.source_node).union(set(test_data.target_node))\n",
        "print(\"Unique train & val nodes : \", len(train_nodes.union(val_nodes) - test_nodes))\n",
        "print(\"Unique test nodes : \", len(test_nodes - train_nodes.union(val_nodes)))"
      ]
    },
    {
      "cell_type": "code",
      "execution_count": 8,
      "metadata": {
        "colab": {
          "base_uri": "https://localhost:8080/",
          "height": 0
        },
        "id": "TNPjc-T8sDtV",
        "outputId": "a35deba3-cd1b-4f04-c8c4-137d007204ec"
      },
      "outputs": [
        {
          "output_type": "display_data",
          "data": {
            "text/plain": [
              "<Figure size 640x480 with 1 Axes>"
            ],
            "image/png": "[encoded data removed]"
          },
          "metadata": {}
        }
      ],
      "source": [
        "num_neighbors = [len(list(G.neighbors(node))) for node in G.nodes]\n",
        "sns.histplot(num_neighbors,bins=30)\n",
        "plt.yscale(\"log\");\n",
        "plt.title(\"Number of neighbors per node\");"
      ]
    },
    {
      "cell_type": "code",
      "execution_count": 9,
      "metadata": {
        "colab": {
          "base_uri": "https://localhost:8080/"
        },
        "id": "4Ci8W7NvESrK",
        "outputId": "06f42726-aff5-45a5-db7a-6afc40c3d9b0"
      },
      "outputs": [
        {
          "output_type": "stream",
          "name": "stdout",
          "text": [
            "Is the total graph connected ?  True\n"
          ]
        }
      ],
      "source": [
        "print(\"Is the total graph connected ? \",nx.is_connected(G))"
      ]
    },
    {
      "cell_type": "markdown",
      "metadata": {
        "id": "iN8sJ-eeEa_7"
      },
      "source": [
        "It's the famous \"theorem\" that says we are all connected to any human being via maximum 6 relations"
      ]
    },
    {
      "cell_type": "code",
      "execution_count": 10,
      "metadata": {
        "colab": {
          "base_uri": "https://localhost:8080/",
          "height": 0
        },
        "id": "xOFlRaBdsDtW",
        "outputId": "b9380d77-5d7e-4a85-c654-116ca4d43fa2"
      },
      "outputs": [
        {
          "output_type": "display_data",
          "data": {
            "text/plain": [
              "<Figure size 640x480 with 1 Axes>"
            ],
            "image/png": "[encoded data removed]"
          },
          "metadata": {}
        }
      ],
      "source": [
        "nx.draw(G.subgraph(list(G.nodes())[0:100]),node_size=10)"
      ]
    },
    {
      "cell_type": "markdown",
      "metadata": {
        "id": "L9p4yx0nsDtW"
      },
      "source": [
        "We noticed the data contains self loops which is anoying for the computation of the features. Since it is always the case where it is equal to 1, we will remove them from the graph for the training."
      ]
    },
    {
      "cell_type": "code",
      "execution_count": 11,
      "metadata": {
        "colab": {
          "base_uri": "https://localhost:8080/"
        },
        "id": "Qkahmk4gsDtW",
        "outputId": "19511364-a13c-4ac8-f8e3-b7ce2a90ca70"
      },
      "outputs": [
        {
          "output_type": "stream",
          "name": "stdout",
          "text": [
            "Number of self loops :  18\n"
          ]
        }
      ],
      "source": [
        "print(\"Number of self loops : \",len(np.where(train_data[\"source_node\"] == train_data[\"target_node\"])[0]))"
      ]
    },
    {
      "cell_type": "code",
      "execution_count": 12,
      "metadata": {
        "colab": {
          "base_uri": "https://localhost:8080/",
          "height": 0
        },
        "id": "fmfb9YOq8NRt",
        "outputId": "d14b7ea7-7fd8-4865-e532-f529136ae41b"
      },
      "outputs": [
        {
          "output_type": "execute_result",
          "data": {
            "text/plain": [
              "Text(0.5, 1.0, 'Number of keywords per node')"
            ]
          },
          "metadata": {},
          "execution_count": 12
        },
        {
          "output_type": "display_data",
          "data": {
            "text/plain": [
              "<Figure size 640x480 with 1 Axes>"
            ],
            "image/png": "[encoded data removed]"
          },
          "metadata": {}
        }
      ],
      "source": [
        "num_keywords = node_info.drop(columns=[\"node_id\"]).sum(axis=1).astype(int)\n",
        "sns.histplot(num_keywords,bins=50)\n",
        "plt.title(\"Number of keywords per node\")"
      ]
    },
    {
      "cell_type": "markdown",
      "metadata": {
        "id": "byAEcYh237m7"
      },
      "source": [
        "We don't have any information as to what the keywords represent, so we cannot do any semantic analysis (NLP)."
      ]
    },
    {
      "cell_type": "markdown",
      "metadata": {
        "id": "Hwtc1uf88Gku"
      },
      "source": [
        "## Features"
      ]
    },
    {
      "cell_type": "code",
      "execution_count": 7,
      "metadata": {
        "colab": {
          "base_uri": "https://localhost:8080/",
          "height": 206
        },
        "id": "bhP5v25H4fUZ",
        "outputId": "ad210274-1dbd-4f14-f7c8-329d31cc5f9f"
      },
      "outputs": [
        {
          "output_type": "execute_result",
          "data": {
            "text/plain": [
              "      source_node  target_node  label\n",
              "3195         2708         3215      0\n",
              "2184          348         7416      0\n",
              "3139         7283         7309      1\n",
              "7467          130         3469      1\n",
              "5648         3657         4741      1"
            ],
            "text/html": [
              "\n",
              "  <div id=\"df-2c66b241-a1c9-4360-a05e-6341870ea48f\" class=\"colab-df-container\">\n",
              "    <div>\n",
              "<style scoped>\n",
              "    .dataframe tbody tr th:only-of-type {\n",
              "        vertical-align: middle;\n",
              "    }\n",
              "\n",
              "    .dataframe tbody tr th {\n",
              "        vertical-align: top;\n",
              "    }\n",
              "\n",
              "    .dataframe thead th {\n",
              "        text-align: right;\n",
              "    }\n",
              "</style>\n",
              "<table border=\"1\" class=\"dataframe\">\n",
              "  <thead>\n",
              "    <tr style=\"text-align: right;\">\n",
              "      <th></th>\n",
              "      <th>source_node</th>\n",
              "      <th>target_node</th>\n",
              "      <th>label</th>\n",
              "    </tr>\n",
              "  </thead>\n",
              "  <tbody>\n",
              "    <tr>\n",
              "      <th>3195</th>\n",
              "      <td>2708</td>\n",
              "      <td>3215</td>\n",
              "      <td>0</td>\n",
              "    </tr>\n",
              "    <tr>\n",
              "      <th>2184</th>\n",
              "      <td>348</td>\n",
              "      <td>7416</td>\n",
              "      <td>0</td>\n",
              "    </tr>\n",
              "    <tr>\n",
              "      <th>3139</th>\n",
              "      <td>7283</td>\n",
              "      <td>7309</td>\n",
              "      <td>1</td>\n",
              "    </tr>\n",
              "    <tr>\n",
              "      <th>7467</th>\n",
              "      <td>130</td>\n",
              "      <td>3469</td>\n",
              "      <td>1</td>\n",
              "    </tr>\n",
              "    <tr>\n",
              "      <th>5648</th>\n",
              "      <td>3657</td>\n",
              "      <td>4741</td>\n",
              "      <td>1</td>\n",
              "    </tr>\n",
              "  </tbody>\n",
              "</table>\n",
              "</div>\n",
              "    <div class=\"colab-df-buttons\">\n",
              "\n",
              "  <div class=\"colab-df-container\">\n",
              "    <button class=\"colab-df-convert\" onclick=\"convertToInteractive('df-2c66b241-a1c9-4360-a05e-6341870ea48f')\"\n",
              "            title=\"Convert this dataframe to an interactive table.\"\n",
              "            style=\"display:none;\">\n",
              "\n",
              "  <svg xmlns=\"http://www.w3.org/2000/svg\" height=\"24px\" viewBox=\"0 -960 960 960\">\n",
              "    <path d=\"M120-120v-720h720v720H120Zm60-500h600v-160H180v160Zm220 220h160v-160H400v160Zm0 220h160v-160H400v160ZM180-400h160v-160H180v160Zm440 0h160v-160H620v160ZM180-180h160v-160H180v160Zm440 0h160v-160H620v160Z\"/>\n",
              "  </svg>\n",
              "    </button>\n",
              "\n",
              "  <style>\n",
              "    .colab-df-container {\n",
              "      display:flex;\n",
              "      gap: 12px;\n",
              "    }\n",
              "\n",
              "    .colab-df-convert {\n",
              "      background-color: #E8F0FE;\n",
              "      border: none;\n",
              "      border-radius: 50%;\n",
              "      cursor: pointer;\n",
              "      display: none;\n",
              "      fill: #1967D2;\n",
              "      height: 32px;\n",
              "      padding: 0 0 0 0;\n",
              "      width: 32px;\n",
              "    }\n",
              "\n",
              "    .colab-df-convert:hover {\n",
              "      background-color: #E2EBFA;\n",
              "      box-shadow: 0px 1px 2px rgba(60, 64, 67, 0.3), 0px 1px 3px 1px rgba(60, 64, 67, 0.15);\n",
              "      fill: #174EA6;\n",
              "    }\n",
              "\n",
              "    .colab-df-buttons div {\n",
              "      margin-bottom: 4px;\n",
              "    }\n",
              "\n",
              "    [theme=dark] .colab-df-convert {\n",
              "      background-color: #3B4455;\n",
              "      fill: #D2E3FC;\n",
              "    }\n",
              "\n",
              "    [theme=dark] .colab-df-convert:hover {\n",
              "      background-color: #434B5C;\n",
              "      box-shadow: 0px 1px 3px 1px rgba(0, 0, 0, 0.15);\n",
              "      filter: drop-shadow(0px 1px 2px rgba(0, 0, 0, 0.3));\n",
              "      fill: #FFFFFF;\n",
              "    }\n",
              "  </style>\n",
              "\n",
              "    <script>\n",
              "      const buttonEl =\n",
              "        document.querySelector('#df-2c66b241-a1c9-4360-a05e-6341870ea48f button.colab-df-convert');\n",
              "      buttonEl.style.display =\n",
              "        google.colab.kernel.accessAllowed ? 'block' : 'none';\n",
              "\n",
              "      async function convertToInteractive(key) {\n",
              "        const element = document.querySelector('#df-2c66b241-a1c9-4360-a05e-6341870ea48f');\n",
              "        const dataTable =\n",
              "          await google.colab.kernel.invokeFunction('convertToInteractive',\n",
              "                                                    [key], {});\n",
              "        if (!dataTable) return;\n",
              "\n",
              "        const docLinkHtml = 'Like what you see? Visit the ' +\n",
              "          '<a target=\"_blank\" href=https://colab.research.google.com/notebooks/data_table.ipynb>data table notebook</a>'\n",
              "          + ' to learn more about interactive tables.';\n",
              "        element.innerHTML = '';\n",
              "        dataTable['output_type'] = 'display_data';\n",
              "        await google.colab.output.renderOutput(dataTable, element);\n",
              "        const docLink = document.createElement('div');\n",
              "        docLink.innerHTML = docLinkHtml;\n",
              "        element.appendChild(docLink);\n",
              "      }\n",
              "    </script>\n",
              "  </div>\n",
              "\n",
              "\n",
              "<div id=\"df-74042eaa-5b28-4cf8-bd82-c95ebfb055e1\">\n",
              "  <button class=\"colab-df-quickchart\" onclick=\"quickchart('df-74042eaa-5b28-4cf8-bd82-c95ebfb055e1')\"\n",
              "            title=\"Suggest charts\"\n",
              "            style=\"display:none;\">\n",
              "\n",
              "<svg xmlns=\"http://www.w3.org/2000/svg\" height=\"24px\"viewBox=\"0 0 24 24\"\n",
              "     width=\"24px\">\n",
              "    <g>\n",
              "        <path d=\"M19 3H5c-1.1 0-2 .9-2 2v14c0 1.1.9 2 2 2h14c1.1 0 2-.9 2-2V5c0-1.1-.9-2-2-2zM9 17H7v-7h2v7zm4 0h-2V7h2v10zm4 0h-2v-4h2v4z\"/>\n",
              "    </g>\n",
              "</svg>\n",
              "  </button>\n",
              "\n",
              "<style>\n",
              "  .colab-df-quickchart {\n",
              "      --bg-color: #E8F0FE;\n",
              "      --fill-color: #1967D2;\n",
              "      --hover-bg-color: #E2EBFA;\n",
              "      --hover-fill-color: #174EA6;\n",
              "      --disabled-fill-color: #AAA;\n",
              "      --disabled-bg-color: #DDD;\n",
              "  }\n",
              "\n",
              "  [theme=dark] .colab-df-quickchart {\n",
              "      --bg-color: #3B4455;\n",
              "      --fill-color: #D2E3FC;\n",
              "      --hover-bg-color: #434B5C;\n",
              "      --hover-fill-color: #FFFFFF;\n",
              "      --disabled-bg-color: #3B4455;\n",
              "      --disabled-fill-color: #666;\n",
              "  }\n",
              "\n",
              "  .colab-df-quickchart {\n",
              "    background-color: var(--bg-color);\n",
              "    border: none;\n",
              "    border-radius: 50%;\n",
              "    cursor: pointer;\n",
              "    display: none;\n",
              "    fill: var(--fill-color);\n",
              "    height: 32px;\n",
              "    padding: 0;\n",
              "    width: 32px;\n",
              "  }\n",
              "\n",
              "  .colab-df-quickchart:hover {\n",
              "    background-color: var(--hover-bg-color);\n",
              "    box-shadow: 0 1px 2px rgba(60, 64, 67, 0.3), 0 1px 3px 1px rgba(60, 64, 67, 0.15);\n",
              "    fill: var(--button-hover-fill-color);\n",
              "  }\n",
              "\n",
              "  .colab-df-quickchart-complete:disabled,\n",
              "  .colab-df-quickchart-complete:disabled:hover {\n",
              "    background-color: var(--disabled-bg-color);\n",
              "    fill: var(--disabled-fill-color);\n",
              "    box-shadow: none;\n",
              "  }\n",
              "\n",
              "  .colab-df-spinner {\n",
              "    border: 2px solid var(--fill-color);\n",
              "    border-color: transparent;\n",
              "    border-bottom-color: var(--fill-color);\n",
              "    animation:\n",
              "      spin 1s steps(1) infinite;\n",
              "  }\n",
              "\n",
              "  @keyframes spin {\n",
              "    0% {\n",
              "      border-color: transparent;\n",
              "      border-bottom-color: var(--fill-color);\n",
              "      border-left-color: var(--fill-color);\n",
              "    }\n",
              "    20% {\n",
              "      border-color: transparent;\n",
              "      border-left-color: var(--fill-color);\n",
              "      border-top-color: var(--fill-color);\n",
              "    }\n",
              "    30% {\n",
              "      border-color: transparent;\n",
              "      border-left-color: var(--fill-color);\n",
              "      border-top-color: var(--fill-color);\n",
              "      border-right-color: var(--fill-color);\n",
              "    }\n",
              "    40% {\n",
              "      border-color: transparent;\n",
              "      border-right-color: var(--fill-color);\n",
              "      border-top-color: var(--fill-color);\n",
              "    }\n",
              "    60% {\n",
              "      border-color: transparent;\n",
              "      border-right-color: var(--fill-color);\n",
              "    }\n",
              "    80% {\n",
              "      border-color: transparent;\n",
              "      border-right-color: var(--fill-color);\n",
              "      border-bottom-color: var(--fill-color);\n",
              "    }\n",
              "    90% {\n",
              "      border-color: transparent;\n",
              "      border-bottom-color: var(--fill-color);\n",
              "    }\n",
              "  }\n",
              "</style>\n",
              "\n",
              "  <script>\n",
              "    async function quickchart(key) {\n",
              "      const quickchartButtonEl =\n",
              "        document.querySelector('#' + key + ' button');\n",
              "      quickchartButtonEl.disabled = true;  // To prevent multiple clicks.\n",
              "      quickchartButtonEl.classList.add('colab-df-spinner');\n",
              "      try {\n",
              "        const charts = await google.colab.kernel.invokeFunction(\n",
              "            'suggestCharts', [key], {});\n",
              "      } catch (error) {\n",
              "        console.error('Error during call to suggestCharts:', error);\n",
              "      }\n",
              "      quickchartButtonEl.classList.remove('colab-df-spinner');\n",
              "      quickchartButtonEl.classList.add('colab-df-quickchart-complete');\n",
              "    }\n",
              "    (() => {\n",
              "      let quickchartButtonEl =\n",
              "        document.querySelector('#df-74042eaa-5b28-4cf8-bd82-c95ebfb055e1 button');\n",
              "      quickchartButtonEl.style.display =\n",
              "        google.colab.kernel.accessAllowed ? 'block' : 'none';\n",
              "    })();\n",
              "  </script>\n",
              "</div>\n",
              "    </div>\n",
              "  </div>\n"
            ],
            "application/vnd.google.colaboratory.intrinsic+json": {
              "type": "dataframe",
              "variable_name": "train_data",
              "summary": "{\n  \"name\": \"train_data\",\n  \"rows\": 8398,\n  \"fields\": [\n    {\n      \"column\": \"source_node\",\n      \"properties\": {\n        \"dtype\": \"number\",\n        \"std\": 1726,\n        \"min\": 0,\n        \"max\": 7576,\n        \"num_unique_values\": 2947,\n        \"samples\": [\n          2820,\n          4968,\n          6357\n        ],\n        \"semantic_type\": \"\",\n        \"description\": \"\"\n      }\n    },\n    {\n      \"column\": \"target_node\",\n      \"properties\": {\n        \"dtype\": \"number\",\n        \"std\": 1801,\n        \"min\": 87,\n        \"max\": 7599,\n        \"num_unique_values\": 2693,\n        \"samples\": [\n          811,\n          2807,\n          6551\n        ],\n        \"semantic_type\": \"\",\n        \"description\": \"\"\n      }\n    },\n    {\n      \"column\": \"label\",\n      \"properties\": {\n        \"dtype\": \"number\",\n        \"std\": 0,\n        \"min\": 0,\n        \"max\": 1,\n        \"num_unique_values\": 2,\n        \"samples\": [\n          1,\n          0\n        ],\n        \"semantic_type\": \"\",\n        \"description\": \"\"\n      }\n    }\n  ]\n}"
            }
          },
          "metadata": {},
          "execution_count": 7
        }
      ],
      "source": [
        "train_data.head()"
      ]
    },
    {
      "cell_type": "code",
      "execution_count": 8,
      "metadata": {
        "colab": {
          "base_uri": "https://localhost:8080/",
          "height": 256
        },
        "id": "hUglQbp-4ksP",
        "outputId": "4c033a5c-d443-4ab7-fc19-9ca1dd8f4d25"
      },
      "outputs": [
        {
          "output_type": "execute_result",
          "data": {
            "text/plain": [
              "   node_id  embedding_1  embedding_2  embedding_3  embedding_4  embedding_5  \\\n",
              "0        0          0.0          0.0          0.0          0.0          0.0   \n",
              "1        4          0.0          0.0          0.0          0.0          0.0   \n",
              "2        5          0.0          0.0          0.0          0.0          0.0   \n",
              "3        6          0.0          0.0          0.0          0.0          0.0   \n",
              "4        7          0.0          0.0          0.0          0.0          0.0   \n",
              "\n",
              "   embedding_6  embedding_7  embedding_8  embedding_9  ...  embedding_923  \\\n",
              "0          0.0          0.0          0.0          0.0  ...            0.0   \n",
              "1          0.0          0.0          0.0          0.0  ...            0.0   \n",
              "2          0.0          0.0          0.0          0.0  ...            0.0   \n",
              "3          0.0          0.0          0.0          0.0  ...            0.0   \n",
              "4          0.0          0.0          0.0          0.0  ...            0.0   \n",
              "\n",
              "   embedding_924  embedding_925  embedding_926  embedding_927  embedding_928  \\\n",
              "0            0.0            0.0            0.0            0.0            0.0   \n",
              "1            0.0            0.0            0.0            0.0            0.0   \n",
              "2            0.0            0.0            0.0            0.0            0.0   \n",
              "3            0.0            0.0            0.0            0.0            0.0   \n",
              "4            0.0            0.0            0.0            0.0            0.0   \n",
              "\n",
              "   embedding_929  embedding_930  embedding_931  embedding_932  \n",
              "0            0.0            0.0            0.0            0.0  \n",
              "1            0.0            0.0            0.0            0.0  \n",
              "2            0.0            0.0            0.0            0.0  \n",
              "3            0.0            0.0            0.0            0.0  \n",
              "4            0.0            0.0            0.0            0.0  \n",
              "\n",
              "[5 rows x 933 columns]"
            ],
            "text/html": [
              "\n",
              "  <div id=\"df-e1226aa4-5ba4-4e3e-9085-d1d24f37e99e\" class=\"colab-df-container\">\n",
              "    <div>\n",
              "<style scoped>\n",
              "    .dataframe tbody tr th:only-of-type {\n",
              "        vertical-align: middle;\n",
              "    }\n",
              "\n",
              "    .dataframe tbody tr th {\n",
              "        vertical-align: top;\n",
              "    }\n",
              "\n",
              "    .dataframe thead th {\n",
              "        text-align: right;\n",
              "    }\n",
              "</style>\n",
              "<table border=\"1\" class=\"dataframe\">\n",
              "  <thead>\n",
              "    <tr style=\"text-align: right;\">\n",
              "      <th></th>\n",
              "      <th>node_id</th>\n",
              "      <th>embedding_1</th>\n",
              "      <th>embedding_2</th>\n",
              "      <th>embedding_3</th>\n",
              "      <th>embedding_4</th>\n",
              "      <th>embedding_5</th>\n",
              "      <th>embedding_6</th>\n",
              "      <th>embedding_7</th>\n",
              "      <th>embedding_8</th>\n",
              "      <th>embedding_9</th>\n",
              "      <th>...</th>\n",
              "      <th>embedding_923</th>\n",
              "      <th>embedding_924</th>\n",
              "      <th>embedding_925</th>\n",
              "      <th>embedding_926</th>\n",
              "      <th>embedding_927</th>\n",
              "      <th>embedding_928</th>\n",
              "      <th>embedding_929</th>\n",
              "      <th>embedding_930</th>\n",
              "      <th>embedding_931</th>\n",
              "      <th>embedding_932</th>\n",
              "    </tr>\n",
              "  </thead>\n",
              "  <tbody>\n",
              "    <tr>\n",
              "      <th>0</th>\n",
              "      <td>0</td>\n",
              "      <td>0.0</td>\n",
              "      <td>0.0</td>\n",
              "      <td>0.0</td>\n",
              "      <td>0.0</td>\n",
              "      <td>0.0</td>\n",
              "      <td>0.0</td>\n",
              "      <td>0.0</td>\n",
              "      <td>0.0</td>\n",
              "      <td>0.0</td>\n",
              "      <td>...</td>\n",
              "      <td>0.0</td>\n",
              "      <td>0.0</td>\n",
              "      <td>0.0</td>\n",
              "      <td>0.0</td>\n",
              "      <td>0.0</td>\n",
              "      <td>0.0</td>\n",
              "      <td>0.0</td>\n",
              "      <td>0.0</td>\n",
              "      <td>0.0</td>\n",
              "      <td>0.0</td>\n",
              "    </tr>\n",
              "    <tr>\n",
              "      <th>1</th>\n",
              "      <td>4</td>\n",
              "      <td>0.0</td>\n",
              "      <td>0.0</td>\n",
              "      <td>0.0</td>\n",
              "      <td>0.0</td>\n",
              "      <td>0.0</td>\n",
              "      <td>0.0</td>\n",
              "      <td>0.0</td>\n",
              "      <td>0.0</td>\n",
              "      <td>0.0</td>\n",
              "      <td>...</td>\n",
              "      <td>0.0</td>\n",
              "      <td>0.0</td>\n",
              "      <td>0.0</td>\n",
              "      <td>0.0</td>\n",
              "      <td>0.0</td>\n",
              "      <td>0.0</td>\n",
              "      <td>0.0</td>\n",
              "      <td>0.0</td>\n",
              "      <td>0.0</td>\n",
              "      <td>0.0</td>\n",
              "    </tr>\n",
              "    <tr>\n",
              "      <th>2</th>\n",
              "      <td>5</td>\n",
              "      <td>0.0</td>\n",
              "      <td>0.0</td>\n",
              "      <td>0.0</td>\n",
              "      <td>0.0</td>\n",
              "      <td>0.0</td>\n",
              "      <td>0.0</td>\n",
              "      <td>0.0</td>\n",
              "      <td>0.0</td>\n",
              "      <td>0.0</td>\n",
              "      <td>...</td>\n",
              "      <td>0.0</td>\n",
              "      <td>0.0</td>\n",
              "      <td>0.0</td>\n",
              "      <td>0.0</td>\n",
              "      <td>0.0</td>\n",
              "      <td>0.0</td>\n",
              "      <td>0.0</td>\n",
              "      <td>0.0</td>\n",
              "      <td>0.0</td>\n",
              "      <td>0.0</td>\n",
              "    </tr>\n",
              "    <tr>\n",
              "      <th>3</th>\n",
              "      <td>6</td>\n",
              "      <td>0.0</td>\n",
              "      <td>0.0</td>\n",
              "      <td>0.0</td>\n",
              "      <td>0.0</td>\n",
              "      <td>0.0</td>\n",
              "      <td>0.0</td>\n",
              "      <td>0.0</td>\n",
              "      <td>0.0</td>\n",
              "      <td>0.0</td>\n",
              "      <td>...</td>\n",
              "      <td>0.0</td>\n",
              "      <td>0.0</td>\n",
              "      <td>0.0</td>\n",
              "      <td>0.0</td>\n",
              "      <td>0.0</td>\n",
              "      <td>0.0</td>\n",
              "      <td>0.0</td>\n",
              "      <td>0.0</td>\n",
              "      <td>0.0</td>\n",
              "      <td>0.0</td>\n",
              "    </tr>\n",
              "    <tr>\n",
              "      <th>4</th>\n",
              "      <td>7</td>\n",
              "      <td>0.0</td>\n",
              "      <td>0.0</td>\n",
              "      <td>0.0</td>\n",
              "      <td>0.0</td>\n",
              "      <td>0.0</td>\n",
              "      <td>0.0</td>\n",
              "      <td>0.0</td>\n",
              "      <td>0.0</td>\n",
              "      <td>0.0</td>\n",
              "      <td>...</td>\n",
              "      <td>0.0</td>\n",
              "      <td>0.0</td>\n",
              "      <td>0.0</td>\n",
              "      <td>0.0</td>\n",
              "      <td>0.0</td>\n",
              "      <td>0.0</td>\n",
              "      <td>0.0</td>\n",
              "      <td>0.0</td>\n",
              "      <td>0.0</td>\n",
              "      <td>0.0</td>\n",
              "    </tr>\n",
              "  </tbody>\n",
              "</table>\n",
              "<p>5 rows × 933 columns</p>\n",
              "</div>\n",
              "    <div class=\"colab-df-buttons\">\n",
              "\n",
              "  <div class=\"colab-df-container\">\n",
              "    <button class=\"colab-df-convert\" onclick=\"convertToInteractive('df-e1226aa4-5ba4-4e3e-9085-d1d24f37e99e')\"\n",
              "            title=\"Convert this dataframe to an interactive table.\"\n",
              "            style=\"display:none;\">\n",
              "\n",
              "  <svg xmlns=\"http://www.w3.org/2000/svg\" height=\"24px\" viewBox=\"0 -960 960 960\">\n",
              "    <path d=\"M120-120v-720h720v720H120Zm60-500h600v-160H180v160Zm220 220h160v-160H400v160Zm0 220h160v-160H400v160ZM180-400h160v-160H180v160Zm440 0h160v-160H620v160ZM180-180h160v-160H180v160Zm440 0h160v-160H620v160Z\"/>\n",
              "  </svg>\n",
              "    </button>\n",
              "\n",
              "  <style>\n",
              "    .colab-df-container {\n",
              "      display:flex;\n",
              "      gap: 12px;\n",
              "    }\n",
              "\n",
              "    .colab-df-convert {\n",
              "      background-color: #E8F0FE;\n",
              "      border: none;\n",
              "      border-radius: 50%;\n",
              "      cursor: pointer;\n",
              "      display: none;\n",
              "      fill: #1967D2;\n",
              "      height: 32px;\n",
              "      padding: 0 0 0 0;\n",
              "      width: 32px;\n",
              "    }\n",
              "\n",
              "    .colab-df-convert:hover {\n",
              "      background-color: #E2EBFA;\n",
              "      box-shadow: 0px 1px 2px rgba(60, 64, 67, 0.3), 0px 1px 3px 1px rgba(60, 64, 67, 0.15);\n",
              "      fill: #174EA6;\n",
              "    }\n",
              "\n",
              "    .colab-df-buttons div {\n",
              "      margin-bottom: 4px;\n",
              "    }\n",
              "\n",
              "    [theme=dark] .colab-df-convert {\n",
              "      background-color: #3B4455;\n",
              "      fill: #D2E3FC;\n",
              "    }\n",
              "\n",
              "    [theme=dark] .colab-df-convert:hover {\n",
              "      background-color: #434B5C;\n",
              "      box-shadow: 0px 1px 3px 1px rgba(0, 0, 0, 0.15);\n",
              "      filter: drop-shadow(0px 1px 2px rgba(0, 0, 0, 0.3));\n",
              "      fill: #FFFFFF;\n",
              "    }\n",
              "  </style>\n",
              "\n",
              "    <script>\n",
              "      const buttonEl =\n",
              "        document.querySelector('#df-e1226aa4-5ba4-4e3e-9085-d1d24f37e99e button.colab-df-convert');\n",
              "      buttonEl.style.display =\n",
              "        google.colab.kernel.accessAllowed ? 'block' : 'none';\n",
              "\n",
              "      async function convertToInteractive(key) {\n",
              "        const element = document.querySelector('#df-e1226aa4-5ba4-4e3e-9085-d1d24f37e99e');\n",
              "        const dataTable =\n",
              "          await google.colab.kernel.invokeFunction('convertToInteractive',\n",
              "                                                    [key], {});\n",
              "        if (!dataTable) return;\n",
              "\n",
              "        const docLinkHtml = 'Like what you see? Visit the ' +\n",
              "          '<a target=\"_blank\" href=https://colab.research.google.com/notebooks/data_table.ipynb>data table notebook</a>'\n",
              "          + ' to learn more about interactive tables.';\n",
              "        element.innerHTML = '';\n",
              "        dataTable['output_type'] = 'display_data';\n",
              "        await google.colab.output.renderOutput(dataTable, element);\n",
              "        const docLink = document.createElement('div');\n",
              "        docLink.innerHTML = docLinkHtml;\n",
              "        element.appendChild(docLink);\n",
              "      }\n",
              "    </script>\n",
              "  </div>\n",
              "\n",
              "\n",
              "<div id=\"df-bb4d81fb-349d-4f2a-bb31-de0f5ec27b8c\">\n",
              "  <button class=\"colab-df-quickchart\" onclick=\"quickchart('df-bb4d81fb-349d-4f2a-bb31-de0f5ec27b8c')\"\n",
              "            title=\"Suggest charts\"\n",
              "            style=\"display:none;\">\n",
              "\n",
              "<svg xmlns=\"http://www.w3.org/2000/svg\" height=\"24px\"viewBox=\"0 0 24 24\"\n",
              "     width=\"24px\">\n",
              "    <g>\n",
              "        <path d=\"M19 3H5c-1.1 0-2 .9-2 2v14c0 1.1.9 2 2 2h14c1.1 0 2-.9 2-2V5c0-1.1-.9-2-2-2zM9 17H7v-7h2v7zm4 0h-2V7h2v10zm4 0h-2v-4h2v4z\"/>\n",
              "    </g>\n",
              "</svg>\n",
              "  </button>\n",
              "\n",
              "<style>\n",
              "  .colab-df-quickchart {\n",
              "      --bg-color: #E8F0FE;\n",
              "      --fill-color: #1967D2;\n",
              "      --hover-bg-color: #E2EBFA;\n",
              "      --hover-fill-color: #174EA6;\n",
              "      --disabled-fill-color: #AAA;\n",
              "      --disabled-bg-color: #DDD;\n",
              "  }\n",
              "\n",
              "  [theme=dark] .colab-df-quickchart {\n",
              "      --bg-color: #3B4455;\n",
              "      --fill-color: #D2E3FC;\n",
              "      --hover-bg-color: #434B5C;\n",
              "      --hover-fill-color: #FFFFFF;\n",
              "      --disabled-bg-color: #3B4455;\n",
              "      --disabled-fill-color: #666;\n",
              "  }\n",
              "\n",
              "  .colab-df-quickchart {\n",
              "    background-color: var(--bg-color);\n",
              "    border: none;\n",
              "    border-radius: 50%;\n",
              "    cursor: pointer;\n",
              "    display: none;\n",
              "    fill: var(--fill-color);\n",
              "    height: 32px;\n",
              "    padding: 0;\n",
              "    width: 32px;\n",
              "  }\n",
              "\n",
              "  .colab-df-quickchart:hover {\n",
              "    background-color: var(--hover-bg-color);\n",
              "    box-shadow: 0 1px 2px rgba(60, 64, 67, 0.3), 0 1px 3px 1px rgba(60, 64, 67, 0.15);\n",
              "    fill: var(--button-hover-fill-color);\n",
              "  }\n",
              "\n",
              "  .colab-df-quickchart-complete:disabled,\n",
              "  .colab-df-quickchart-complete:disabled:hover {\n",
              "    background-color: var(--disabled-bg-color);\n",
              "    fill: var(--disabled-fill-color);\n",
              "    box-shadow: none;\n",
              "  }\n",
              "\n",
              "  .colab-df-spinner {\n",
              "    border: 2px solid var(--fill-color);\n",
              "    border-color: transparent;\n",
              "    border-bottom-color: var(--fill-color);\n",
              "    animation:\n",
              "      spin 1s steps(1) infinite;\n",
              "  }\n",
              "\n",
              "  @keyframes spin {\n",
              "    0% {\n",
              "      border-color: transparent;\n",
              "      border-bottom-color: var(--fill-color);\n",
              "      border-left-color: var(--fill-color);\n",
              "    }\n",
              "    20% {\n",
              "      border-color: transparent;\n",
              "      border-left-color: var(--fill-color);\n",
              "      border-top-color: var(--fill-color);\n",
              "    }\n",
              "    30% {\n",
              "      border-color: transparent;\n",
              "      border-left-color: var(--fill-color);\n",
              "      border-top-color: var(--fill-color);\n",
              "      border-right-color: var(--fill-color);\n",
              "    }\n",
              "    40% {\n",
              "      border-color: transparent;\n",
              "      border-right-color: var(--fill-color);\n",
              "      border-top-color: var(--fill-color);\n",
              "    }\n",
              "    60% {\n",
              "      border-color: transparent;\n",
              "      border-right-color: var(--fill-color);\n",
              "    }\n",
              "    80% {\n",
              "      border-color: transparent;\n",
              "      border-right-color: var(--fill-color);\n",
              "      border-bottom-color: var(--fill-color);\n",
              "    }\n",
              "    90% {\n",
              "      border-color: transparent;\n",
              "      border-bottom-color: var(--fill-color);\n",
              "    }\n",
              "  }\n",
              "</style>\n",
              "\n",
              "  <script>\n",
              "    async function quickchart(key) {\n",
              "      const quickchartButtonEl =\n",
              "        document.querySelector('#' + key + ' button');\n",
              "      quickchartButtonEl.disabled = true;  // To prevent multiple clicks.\n",
              "      quickchartButtonEl.classList.add('colab-df-spinner');\n",
              "      try {\n",
              "        const charts = await google.colab.kernel.invokeFunction(\n",
              "            'suggestCharts', [key], {});\n",
              "      } catch (error) {\n",
              "        console.error('Error during call to suggestCharts:', error);\n",
              "      }\n",
              "      quickchartButtonEl.classList.remove('colab-df-spinner');\n",
              "      quickchartButtonEl.classList.add('colab-df-quickchart-complete');\n",
              "    }\n",
              "    (() => {\n",
              "      let quickchartButtonEl =\n",
              "        document.querySelector('#df-bb4d81fb-349d-4f2a-bb31-de0f5ec27b8c button');\n",
              "      quickchartButtonEl.style.display =\n",
              "        google.colab.kernel.accessAllowed ? 'block' : 'none';\n",
              "    })();\n",
              "  </script>\n",
              "</div>\n",
              "    </div>\n",
              "  </div>\n"
            ],
            "application/vnd.google.colaboratory.intrinsic+json": {
              "type": "dataframe",
              "variable_name": "node_info"
            }
          },
          "metadata": {},
          "execution_count": 8
        }
      ],
      "source": [
        "node_info.head()"
      ]
    },
    {
      "cell_type": "code",
      "execution_count": 9,
      "metadata": {
        "colab": {
          "base_uri": "https://localhost:8080/"
        },
        "id": "nKWyB3wB7e0W",
        "outputId": "75e1b29c-c4f5-4ae6-ed37-f249ad711244"
      },
      "outputs": [
        {
          "output_type": "stream",
          "name": "stdout",
          "text": [
            "Similiarity computed in 0.1563 min\n",
            "Train shape :  (8398, 1871)\n",
            "Val shape :  (2098, 1871)\n",
            "Test shape :  (3498, 1870)\n"
          ]
        }
      ],
      "source": [
        "# Node distances\n",
        "\n",
        "def add_embeddings(df, embeddings):\n",
        "  \"\"\"returns dataframe with embeddings of both source and target node\"\"\"\n",
        "  df = df.merge(embeddings, how=\"left\", left_on=\"source_node\", right_on=\"node_id\")\n",
        "  df = df.merge(\n",
        "      embeddings,\n",
        "      how=\"left\",\n",
        "      left_on=\"target_node\",\n",
        "      right_on=\"node_id\",\n",
        "      suffixes=(\"_source\", \"_target\"),\n",
        "  )\n",
        "  df = df.drop(columns=[\"node_id_source\",\"node_id_target\"])\n",
        "  return df\n",
        "\n",
        "\n",
        "def compute_similarity(df_, embeddings):\n",
        "    \"\"\"returns cosine similarity and euclidean distance between node embeddings\"\"\"\n",
        "    df = df_.copy()\n",
        "\n",
        "    # Merge the embeddings dataframe to get the embeddings for both source and target nodes\n",
        "    df = add_embeddings(df,embeddings)\n",
        "    source_embeddings = df[[f\"embedding_{i}_source\" for i in range(1, 933)]].values\n",
        "    target_embeddings = df[[f\"embedding_{i}_target\" for i in range(1, 933)]].values\n",
        "\n",
        "    #Cosine similiarity\n",
        "    cosine_sim = [cosine_similarity([s], [t])[0][0] for s, t in zip(source_embeddings, target_embeddings)]\n",
        "\n",
        "    #Euclidean dist\n",
        "    euclidean_dist = [np.linalg.norm(s - t) for s, t in zip(source_embeddings, target_embeddings)]\n",
        "\n",
        "    #Num common words\n",
        "    nb_common_words = []\n",
        "    nb_total_words = []\n",
        "    for s, t in zip(source_embeddings, target_embeddings):\n",
        "        set_words_source = set(np.where(s > 0)[0])\n",
        "        set_words_target = set(np.where(t > 0)[0])\n",
        "        nb_common_words.append(len(set_words_source.intersection(set_words_target)))\n",
        "        nb_total_words.append(len(set_words_source.union(set_words_target)))\n",
        "\n",
        "    # Add the calculated features to the dataframe\n",
        "    df[\"cosine_similarity\"] = cosine_sim\n",
        "    df[\"euclidean_distance\"] = euclidean_dist\n",
        "    df[\"nb_common_words\"] = nb_common_words\n",
        "    df[\"jaccard_similarity\"] = np.array(nb_common_words)/np.array(nb_total_words)\n",
        "    return df\n",
        "\n",
        "\n",
        "t1 = perf_counter()\n",
        "train_features = compute_similarity(train_data, node_info) #utilisés après\n",
        "val_features = compute_similarity(val_data, node_info)\n",
        "test_features = compute_similarity(test_data, node_info)\n",
        "t2 = perf_counter()\n",
        "print(f\"Similiarity computed in {round((t2-t1)/60,4)} min\")\n",
        "print(\"Train shape : \",train_features.shape)\n",
        "print(\"Val shape : \",val_features.shape)\n",
        "print(\"Test shape : \",test_features.shape)"
      ]
    },
    {
      "cell_type": "code",
      "source": [
        "# Node correspondance\n",
        "\n",
        "def get_embbedding_counts(embeddings):\n",
        "    \"\"\"returns occurences of each word in training set\"\"\"\n",
        "    counts = embeddings.drop(columns=[\"node_id\"]).sum(axis=0)\n",
        "    return counts\n",
        "\n",
        "def compute_keywords_correspondance(df_):\n",
        "    df = df_.copy()\n",
        "    result_arrays = []\n",
        "    for i in range(1, 933):\n",
        "        result = (3 * df[f\"embedding_{i}_source\"] * df[f\"embedding_{i}_target\"] - df[f\"embedding_{i}_source\"] - df[f\"embedding_{i}_target\"])\n",
        "        result_arrays.append(result.values)\n",
        "    result_df = pd.DataFrame(np.array(result_arrays).T, columns=[f\"feature_{i}_correspondance\" for i in range(1, 933)], index=df.index)\n",
        "    return pd.concat([df, result_df], axis=1)\n",
        "\n",
        "def compute_node_info(df_, embeddings):\n",
        "    \"\"\"returns more information of node embeddings\"\"\"\n",
        "    df = df_.copy()\n",
        "    t1 = perf_counter()\n",
        "\n",
        "    num_words_source =  df[[f\"embedding_{i}_source\" for i in range(1, 933)]].sum(axis=1)\n",
        "    num_words_target = df[[f\"embedding_{i}_target\" for i in range(1, 933)]].sum(axis=1)\n",
        "    df[\"num_words_max\"] = np.max([num_words_source,num_words_target],axis=0)\n",
        "    df[\"num_words_min\"] = np.min([num_words_source,num_words_target],axis=0)\n",
        "\n",
        "    embeddings_values = dict(get_embbedding_counts(embeddings))\n",
        "    mean_keyword_values_source = df.apply(lambda row: np.mean([embeddings_values[f\"embedding_{i}\"] for i in range(1, 933) if row[f\"embedding_{i}_source\"] == 1]), axis=1)\n",
        "    mean_keyword_values_target = df.apply(lambda row: np.mean([embeddings_values[f\"embedding_{i}\"] for i in range(1, 933) if row[f\"embedding_{i}_target\"] == 1]), axis=1)\n",
        "    df[\"mean_keyword_values_max\"] = np.max([mean_keyword_values_source,mean_keyword_values_target],axis=0)\n",
        "    df[\"mean_keyword_values_min\"] = np.min([mean_keyword_values_source,mean_keyword_values_target],axis=0)\n",
        "\n",
        "    df = compute_keywords_correspondance(df)\n",
        "\n",
        "    df = df.drop(columns = [f\"embedding_{i}_source\" for i in range(1,933)]+[f\"embedding_{i}_target\" for i in range(1,933)])\n",
        "    return df\n",
        "\n",
        "t1 = perf_counter()\n",
        "train_features = compute_node_info(train_features, node_info)\n",
        "val_features = compute_node_info(val_features, node_info)\n",
        "test_features = compute_node_info(test_features, node_info)\n",
        "t2 = perf_counter()\n",
        "print(f\"Node correspondance computed in {round((t2-t1)/60,4)} min\")\n",
        "print(\"Train shape : \",train_features.shape)\n",
        "print(\"Val shape : \",val_features.shape)\n",
        "print(\"Test shape : \",test_features.shape)"
      ],
      "metadata": {
        "colab": {
          "base_uri": "https://localhost:8080/"
        },
        "id": "m4dEf-XAs7kS",
        "outputId": "271f0ac0-0759-4841-e618-e041fec334b6"
      },
      "execution_count": 10,
      "outputs": [
        {
          "output_type": "stream",
          "name": "stdout",
          "text": [
            "Node correspondance computed in 1.7856 min\n",
            "Train shape :  (8398, 943)\n",
            "Val shape :  (2098, 943)\n",
            "Test shape :  (3498, 942)\n"
          ]
        }
      ]
    },
    {
      "cell_type": "code",
      "source": [
        "#Clustering of keywords\n",
        "\n",
        "from sklearn.cluster import AgglomerativeClustering\n",
        "from scipy.cluster.hierarchy import dendrogram\n",
        "\n",
        "def merge_embeddings(df_,keywords_labels, columns_to_cluster, new_suffix=\"\", max_size=100, do_all = False):\n",
        "    \"\"\"takes the means of keywords labels of which counts and between 1 and max size\"\"\"\n",
        "    df = df_.copy()\n",
        "    unique_labels_, counts = np.unique(keywords_labels, return_counts=True)\n",
        "    unique_labels = unique_labels_[np.logical_and(counts < max_size, counts > 1)] #clusters to keep\n",
        "    left_out = unique_labels_[np.logical_or(counts >= max_size, counts <= 1)] #clusters to remove except if do all\n",
        "    for k,label in enumerate(unique_labels):\n",
        "        key_words_index = np.where(keywords_labels == label)[0]\n",
        "        current_cluster_columns = [columns_to_cluster[i] for i in key_words_index]\n",
        "        df[f\"cluster_keywords_{k}{new_suffix}\"] = df[current_cluster_columns].mean(axis=1)\n",
        "        df = df.drop(columns=current_cluster_columns)\n",
        "    if do_all:\n",
        "      for k,label in enumerate(left_out):\n",
        "          key_words_index = np.where(keywords_labels == label)[0]\n",
        "          current_cluster_columns = [columns_to_cluster[i] for i in key_words_index]\n",
        "          df[f\"cluster_keywords_{k}{new_suffix}\"] = df[current_cluster_columns].mean(axis=1)\n",
        "          df = df.drop(columns=current_cluster_columns)\n",
        "    return df\n",
        "\n",
        "def compute_keywords_clusters(df_, columns_to_cluster, n_clusters=100, plot=False):\n",
        "    \"\"\"computes clustering of keywords in columns\"\"\"\n",
        "    df = df_.copy()\n",
        "    keywords_features = df[columns_to_cluster].transpose()\n",
        "\n",
        "    # Clustering\n",
        "    clustering = AgglomerativeClustering(\n",
        "        n_clusters=n_clusters,\n",
        "        compute_distances=True,\n",
        "        compute_full_tree=True,\n",
        "    ).fit(keywords_features)\n",
        "\n",
        "    if plot:\n",
        "        print(\"\")\n",
        "        print(\"Counts : \",np.unique(clustering.labels_, return_counts=True)[1])\n",
        "\n",
        "        # Plot dendrogram\n",
        "        plt.figure(figsize=(30, 10))\n",
        "        plt.title(\"Hierarchical Clustering Dendrogram\")\n",
        "        plot_dendrogram(clustering, labels=keywords_features.index)\n",
        "        plt.show()\n",
        "\n",
        "    return clustering.labels_\n",
        "\n",
        "\n",
        "def plot_dendrogram(model, **kwargs):\n",
        "    \"\"\"Creates linkage matrix and then plots the dendrogram\"\"\"\n",
        "    # create the counts of samples under each node\n",
        "    counts = np.zeros(model.children_.shape[0])\n",
        "    n_samples = len(model.labels_)\n",
        "    for i, merge in enumerate(model.children_):\n",
        "        current_count = 0\n",
        "        for child_idx in merge:\n",
        "            if child_idx < n_samples:\n",
        "                current_count += 1  # leaf node\n",
        "            else:\n",
        "                current_count += counts[child_idx - n_samples]\n",
        "        counts[i] = current_count\n",
        "\n",
        "    linkage_matrix = np.column_stack([model.children_, model.distances_, counts]).astype(float)\n",
        "    # Plot the corresponding dendrogram\n",
        "    dendrogram(linkage_matrix, **kwargs)\n",
        "\n",
        "\n",
        "t1 = perf_counter()\n",
        "\n",
        "columns_to_cluster = [f\"feature_{i}_correspondance\" for i in range(1, 933)]\n",
        "clusters_to_make = 250\n",
        "labels = compute_keywords_clusters(train_features, columns_to_cluster, n_clusters=clusters_to_make) #computes clusters on keywords correspondance\n",
        "\n",
        "train_features = merge_embeddings(train_features, labels, columns_to_cluster)\n",
        "val_features = merge_embeddings(val_features, labels, columns_to_cluster)\n",
        "test_features = merge_embeddings(test_features, labels, columns_to_cluster)\n",
        "\n",
        "columns_to_cluster = [col for col in train_features.columns if \"_correspondance\" in col]\n",
        "columns_left = len(columns_to_cluster)\n",
        "clusters_to_make = 250\n",
        "print(f\"After initial clusterting, columns to cluster : {columns_left}, will attempt {clusters_to_make} new clusters\")\n",
        "\n",
        "i = 0\n",
        "while clusters_to_make > 50:\n",
        "  i +=1\n",
        "  labels = compute_keywords_clusters(train_features,columns_to_cluster, n_clusters=clusters_to_make,plot=False)\n",
        "  train_features = merge_embeddings(train_features, labels, columns_to_cluster, new_suffix=f\"_{i}\")\n",
        "  val_features = merge_embeddings(val_features, labels, columns_to_cluster, new_suffix=f\"_{i}\")\n",
        "  test_features = merge_embeddings(test_features, labels, columns_to_cluster, new_suffix=f\"_{i}\")\n",
        "  columns_to_cluster = [col for col in train_features.columns if \"_correspondance\" in col]\n",
        "  columns_left = len(columns_to_cluster)\n",
        "  clusters_to_make -= 50\n",
        "  print(f\"After iteration {i}, columns left to cluster : {columns_left}, will attempt {clusters_to_make} new clusters\")\n",
        "\n",
        "labels = compute_keywords_clusters(train_features,columns_to_cluster, n_clusters= clusters_to_make,plot=True)\n",
        "train_features = merge_embeddings(train_features, labels, columns_to_cluster, new_suffix=f\"_{i}\", do_all=True)\n",
        "val_features = merge_embeddings(val_features, labels, columns_to_cluster, new_suffix=f\"_{i}\", do_all=True)\n",
        "test_features = merge_embeddings(test_features, labels, columns_to_cluster, new_suffix=f\"_{i}\", do_all=True)\n",
        "\n",
        "t2 = perf_counter()\n",
        "print(f\"Clusters computed in {round((t2-t1)/60,4)} min\")\n",
        "print(\"Train shape : \",train_features.shape)\n",
        "print(\"Val shape : \",val_features.shape)\n",
        "print(\"Test shape : \",test_features.shape)"
      ],
      "metadata": {
        "colab": {
          "base_uri": "https://localhost:8080/",
          "height": 989
        },
        "id": "_UQB2PguhGJZ",
        "outputId": "d2bdeca5-b25a-4f80-c42a-09774f0e477a"
      },
      "execution_count": 11,
      "outputs": [
        {
          "output_type": "stream",
          "name": "stdout",
          "text": [
            "After initial clusterting, columns to cluster : 673, will attempt 250 new clusters\n",
            "After iteration 1, columns left to cluster : 498, will attempt 200 new clusters\n",
            "After iteration 2, columns left to cluster : 498, will attempt 150 new clusters\n",
            "After iteration 3, columns left to cluster : 460, will attempt 100 new clusters\n",
            "After iteration 4, columns left to cluster : 444, will attempt 50 new clusters\n",
            "\n",
            "Counts :  [  2   2   2  21 365   2   1   1   2   4   2   2   1   1   1   1   1   1\n",
            "   1   1   1   1   1   1   1   1   1   1   1   1   1   1   1   1   1   1\n",
            "   1   1   1   1   1   1   1   1   1   1   1   1   1   1]\n"
          ]
        },
        {
          "output_type": "display_data",
          "data": {
            "text/plain": [
              "<Figure size 3000x1000 with 1 Axes>"
            ],
            "image/png": "[encoded data removed]"
          },
          "metadata": {}
        },
        {
          "output_type": "stream",
          "name": "stdout",
          "text": [
            "Clusters computed in 0.5238 min\n",
            "Train shape :  (8398, 185)\n",
            "Val shape :  (2098, 185)\n",
            "Test shape :  (3498, 184)\n"
          ]
        }
      ]
    },
    {
      "cell_type": "code",
      "execution_count": 12,
      "metadata": {
        "id": "MpOjVKEAsDtX",
        "colab": {
          "base_uri": "https://localhost:8080/"
        },
        "outputId": "41941f09-c248-4d16-d29c-baa9c52faf49"
      },
      "outputs": [
        {
          "output_type": "stream",
          "name": "stdout",
          "text": [
            "Train shape :  (8380, 185)\n",
            "Val shape :  (2085, 185)\n",
            "Test shape :  (3481, 184)\n"
          ]
        }
      ],
      "source": [
        "# As said before we remove the self loops\n",
        "# Warning: we need to add them back at the end in the submission\n",
        "G.remove_edges_from(nx.selfloop_edges(G))\n",
        "\n",
        "train_features = train_features[train_features[\"source_node\"] != train_features[\"target_node\"]].reset_index(drop=True)\n",
        "val_features = val_features[val_features[\"source_node\"] != val_features[\"target_node\"]].reset_index(drop=True)\n",
        "test_features = test_features[test_features[\"source_node\"] != test_features[\"target_node\"]].reset_index(drop=True)\n",
        "\n",
        "print(\"Train shape : \",train_features.shape)\n",
        "print(\"Val shape : \",val_features.shape)\n",
        "print(\"Test shape : \",test_features.shape)"
      ]
    },
    {
      "cell_type": "code",
      "source": [
        "#Node2vec\n",
        "\n",
        "t1 = perf_counter()\n",
        "\n",
        "node2vec_dim = 32\n",
        "node2vec = Node2Vec(G, dimensions=node2vec_dim, walk_length=50, num_walks=40, workers=4)\n",
        "model = node2vec.fit(window=10, min_count=1, batch_words=4)\n",
        "embeddings = model.wv\n",
        "\n",
        "def node2vec_similarity(node_pair):\n",
        "    # Get the embeddings for the node pair\n",
        "    vector1 = embeddings[str(node_pair[0])]\n",
        "    vector2 = embeddings[str(node_pair[1])]\n",
        "    # Calculate cosine similarity (or any other similarity metric)\n",
        "    similarity = np.dot(vector1, vector2) / (np.linalg.norm(vector1) * np.linalg.norm(vector2))\n",
        "    return similarity\n",
        "\n",
        "# Calculate Node2Vec similarity for each node pair in train and test sets\n",
        "train_features[\"node2vec_similarity\"] = train_features.apply(\n",
        "    lambda row: node2vec_similarity((int(row[\"source_node\"]), int(row[\"target_node\"]))),axis=1)\n",
        "val_features[\"node2vec_similarity\"] = val_features.apply(\n",
        "    lambda row: node2vec_similarity((int(row[\"source_node\"]), int(row[\"target_node\"]))),axis=1)\n",
        "test_features[\"node2vec_similarity\"] = test_features.apply(\n",
        "    lambda row: node2vec_similarity((int(row[\"source_node\"]), int(row[\"target_node\"]))),axis=1)\n",
        "\n",
        "t2 = perf_counter()\n",
        "print(f\"Node2vec computed in {round((t2-t1)/60,4)} min\")\n",
        "\n",
        "print(\"Train shape : \",train_features.shape)\n",
        "print(\"Val shape : \",val_features.shape)\n",
        "print(\"Test shape : \",test_features.shape)"
      ],
      "metadata": {
        "id": "W_3ZZaUOglEg",
        "colab": {
          "base_uri": "https://localhost:8080/",
          "height": 118,
          "referenced_widgets": [
            "37f7f183b90641bcb5584fe15e832167",
            "5856295fe225435584e33f3fbd7ed247",
            "dc546c2311e34ba18a23f3fde515e9ab",
            "26649564bf8042e4a0d7f586cac30cf1",
            "9b46b86402664cdfa2cb9be499ccaba0",
            "d953f4d569f947b79df5a01f19ed4bc6",
            "e4a71b33ee1c4659a01516627abd2f97",
            "80d567cf32ff4712b79fdf57eda58b2a",
            "0ceae9877e8843fa9d356f38bc307bcc",
            "eca1a9d20b2d43a18bfca24ad6113c20",
            "607a4f04f19d4aa9aa9fadf9ca8937ab"
          ]
        },
        "outputId": "365891bb-1ac6-46ce-94a9-60de4c4156d4"
      },
      "execution_count": 13,
      "outputs": [
        {
          "output_type": "display_data",
          "data": {
            "text/plain": [
              "Computing transition probabilities:   0%|          | 0/3597 [00:00<?, ?it/s]"
            ],
            "application/vnd.jupyter.widget-view+json": {
              "version_major": 2,
              "version_minor": 0,
              "model_id": "37f7f183b90641bcb5584fe15e832167"
            }
          },
          "metadata": {}
        },
        {
          "output_type": "stream",
          "name": "stdout",
          "text": [
            "Node2vec computed in 7.8933 min\n",
            "Train shape :  (8380, 186)\n",
            "Val shape :  (2085, 186)\n",
            "Test shape :  (3481, 185)\n"
          ]
        }
      ]
    },
    {
      "cell_type": "code",
      "source": [
        "#VGAE\n",
        "\n",
        "do_VGAE = False\n",
        "\n",
        "#necessite\n",
        "if do_VGAE:\n",
        "\n",
        "  import torch_geometric as tg\n",
        "  device = \"cuda\" if torch.cuda.is_available() else \"cpu\"\n",
        "  graph_data = tg.utils.from_networkx(G, group_node_attrs=\"all\").to(device)\n",
        "  val_split = 0.2\n",
        "  embedding_dim = 2\n",
        "  epochs = 300\n",
        "  from torch_geometric.transforms import RandomLinkSplit\n",
        "  train_data, val_data, _ = RandomLinkSplit(is_undirected=True, num_val=val_split, num_test=0, split_labels=True, add_negative_train_samples=True)(graph_data.clone())\n",
        "\n",
        "  # Fit vgae\n",
        "  from torch_geometric.nn.models import VGAE\n",
        "  from torch_geometric.nn import GCNConv\n",
        "  from torch_geometric.nn.models import InnerProductDecoder\n",
        "\n",
        "\n",
        "  class VariationalGCNEncoder(torch.nn.Module):\n",
        "      def __init__(self, in_channels, out_channels):\n",
        "          super(VariationalGCNEncoder, self).__init__()\n",
        "          self.conv1 = GCNConv(\n",
        "              in_channels, 2 * out_channels)\n",
        "          self.conv_mu = GCNConv(2 * out_channels, out_channels)\n",
        "          self.conv_logstd = GCNConv(2 * out_channels, out_channels)\n",
        "\n",
        "      def forward(self, x, edge_index):\n",
        "          x = self.conv1(x, edge_index).relu()\n",
        "          return self.conv_mu(x, edge_index), self.conv_logstd(x, edge_index)\n",
        "\n",
        "\n",
        "  vgae = VGAE(encoder=VariationalGCNEncoder(932, embedding_dim), decoder=InnerProductDecoder()).to(device)\n",
        "\n",
        "  train_edge_index = train_data.edge_index.to(device)\n",
        "  train_pos_edge_index = train_data.pos_edge_label_index.to(device)\n",
        "  train_neg_edge_index = train_data.neg_edge_label_index.to(device)\n",
        "  optimizer = torch.optim.Adam(vgae.parameters(), lr=0.01)\n",
        "  x = train_data.x.to(device)\n",
        "\n",
        "\n",
        "  def test(pos_edge_index, neg_edge_index):\n",
        "      vgae.eval()\n",
        "      with torch.no_grad():\n",
        "          z = vgae.encode(x, train_pos_edge_index)\n",
        "      return vgae.test(z, pos_edge_index, neg_edge_index)\n",
        "\n",
        "  def classify(pos_edge_index, neg_edge_index):\n",
        "      vgae.eval()\n",
        "      with torch.no_grad():\n",
        "          z_neg = vgae.encode(x, neg_edge_index)\n",
        "          z_pos = vgae.encode(x, pos_edge_index)\n",
        "      score_neg = ((vgae.decoder(z_neg, neg_edge_index)) < 0.5).sum() / neg_edge_index.size(1)\n",
        "      score_pos = ((vgae.decoder(z_pos, pos_edge_index)) >= 0.5).sum() / pos_edge_index.size(1)\n",
        "      print(f\"Classification neg accuracy: {score_neg}\")\n",
        "      print(f\"Classification pos accuracy: {score_pos}\")\n",
        "\n",
        "\n",
        "  for epoch in range(1, epochs + 1):\n",
        "      loss = train()\n",
        "      auc, ap = test(val_data.pos_edge_label_index, val_data.neg_edge_label_index)\n",
        "      print(\"Epoch: {:03d}, AUC: {:.4f}, AP: {:.4f}\".format(epoch, auc, ap))\n",
        "\n",
        "  classify(val_data.pos_edge_label_index, val_data.neg_edge_label_index)"
      ],
      "metadata": {
        "id": "o_BV29Jdhm2M"
      },
      "execution_count": 14,
      "outputs": []
    },
    {
      "cell_type": "code",
      "execution_count": 15,
      "metadata": {
        "id": "WKfLxlydsDtX",
        "colab": {
          "base_uri": "https://localhost:8080/"
        },
        "outputId": "2b03ca2f-959e-4197-d0f2-5d7f095772a5"
      },
      "outputs": [
        {
          "output_type": "stream",
          "name": "stdout",
          "text": [
            "Train shape :  (8380, 190)\n",
            "Val shape :  (2085, 190)\n",
            "Test shape :  (3481, 189)\n"
          ]
        }
      ],
      "source": [
        "# Add coefficient standard to networkx\n",
        "\n",
        "coefficient_function = {\n",
        "    \"preferential_attachment\": nx.preferential_attachment,\n",
        "    \"common_neighbors\": partial(nx.common_neighbor_centrality, **{\"alpha\": 1}),\n",
        "    \"jaccard_coefficient\": nx.jaccard_coefficient,\n",
        "    \"adamic_adar\": nx.adamic_adar_index,\n",
        "}\n",
        "\n",
        "\n",
        "for coeff_name, coeff_function in coefficient_function.items():\n",
        "  train_features[coeff_name] = [coeff for _, _, coeff in coeff_function(G, ebunch=train_features[[\"source_node\", \"target_node\"]].values)]\n",
        "  val_features[coeff_name] = [coeff for _, _, coeff in coeff_function(G, ebunch=val_features[[\"source_node\", \"target_node\"]].values)]\n",
        "  test_features[coeff_name] = [coeff for _, _, coeff in coeff_function(G, ebunch=test_features[[\"source_node\", \"target_node\"]].values)]\n",
        "\n",
        "print(\"Train shape : \",train_features.shape)\n",
        "print(\"Val shape : \",val_features.shape)\n",
        "print(\"Test shape : \",test_features.shape)"
      ]
    },
    {
      "cell_type": "code",
      "execution_count": 16,
      "metadata": {
        "id": "Cx743Q1NsDtX",
        "colab": {
          "base_uri": "https://localhost:8080/"
        },
        "outputId": "3f6a3f08-b88d-4527-ec02-b2201c9f3554"
      },
      "outputs": [
        {
          "output_type": "stream",
          "name": "stdout",
          "text": [
            "Train shape :  (8380, 192)\n",
            "Val shape :  (2085, 192)\n",
            "Test shape :  (3481, 191)\n"
          ]
        }
      ],
      "source": [
        "# Add information from nodes:\n",
        "degree_dict = nx.degree_centrality(G)\n",
        "\n",
        "def add_centrality(df_):\n",
        "  df = df_.copy()\n",
        "  df[\"degree_centrality_source\"] = [degree_dict[node] for node in df[\"source_node\"]]\n",
        "  df[\"degree_centrality_target\"] = [degree_dict[node] for node in df[\"target_node\"]]\n",
        "  df[\"degree_centrality_max\"] = df[[\"degree_centrality_source\",\"degree_centrality_target\"]].max(axis=1)\n",
        "  df[\"degree_centrality_min\"] = df[[\"degree_centrality_source\",\"degree_centrality_target\"]].min(axis=1)\n",
        "  df = df.drop(columns=[\"degree_centrality_target\",\"degree_centrality_source\"])\n",
        "  return df\n",
        "\n",
        "train_features = add_centrality(train_features)\n",
        "val_features = add_centrality(val_features)\n",
        "test_features = add_centrality(test_features)\n",
        "\n",
        "print(\"Train shape : \",train_features.shape)\n",
        "print(\"Val shape : \",val_features.shape)\n",
        "print(\"Test shape : \",test_features.shape)"
      ]
    },
    {
      "cell_type": "code",
      "execution_count": 17,
      "metadata": {
        "id": "u73YJCidOCoU",
        "colab": {
          "base_uri": "https://localhost:8080/"
        },
        "outputId": "08aa0726-1817-47e1-9aa8-269f1acae394"
      },
      "outputs": [
        {
          "output_type": "stream",
          "name": "stdout",
          "text": [
            "Edge information computed in 3.0038 min\n",
            "Train shape :  (8380, 194)\n",
            "Val shape :  (2085, 194)\n",
            "Test shape :  (3481, 193)\n"
          ]
        }
      ],
      "source": [
        "# Add information from edges:\n",
        "\n",
        "t1 = perf_counter()\n",
        "\n",
        "betweeness_dict = nx.edge_betweenness_centrality(G)\n",
        "used_edge_list = list(betweeness_dict.keys())\n",
        "\n",
        "shortest_path_dict = nx.shortest_path(G)\n",
        "\n",
        "\n",
        "def add_edge_info(df):\n",
        "  for i,(source_node, target_node) in enumerate(df[[\"source_node\",\"target_node\"]].values):\n",
        "    if (source_node,target_node) in used_edge_list:\n",
        "      df.loc[i,\"edge_betweenness_centrality\"] = betweeness_dict[(source_node,target_node)]\n",
        "    else:\n",
        "      df.loc[i,\"edge_betweenness_centrality\"] = 0\n",
        "    df.loc[i,\"shortest_path_length\"] = len(shortest_path_dict[source_node][target_node])\n",
        "  return df\n",
        "\n",
        "train_features = add_edge_info(train_features)\n",
        "val_features = add_edge_info(val_features)\n",
        "test_features = add_edge_info(test_features)\n",
        "\n",
        "t2 = perf_counter()\n",
        "print(f\"Edge information computed in {round((t2-t1)/60,4)} min\")\n",
        "\n",
        "print(\"Train shape : \",train_features.shape)\n",
        "print(\"Val shape : \",val_features.shape)\n",
        "print(\"Test shape : \",test_features.shape)"
      ]
    },
    {
      "cell_type": "code",
      "execution_count": 18,
      "metadata": {
        "id": "hidpzmpIsDtY",
        "colab": {
          "base_uri": "https://localhost:8080/"
        },
        "outputId": "3a7d8b86-037d-415e-c0bd-b22fe97cb83b"
      },
      "outputs": [
        {
          "output_type": "stream",
          "name": "stdout",
          "text": [
            "Algorithms information computed in 0.0121 min\n",
            "Train shape :  (8380, 200)\n",
            "Val shape :  (2085, 200)\n",
            "Test shape :  (3481, 199)\n"
          ]
        }
      ],
      "source": [
        "# Add features from algorithms\n",
        "t1 = perf_counter()\n",
        "\n",
        "algorithms_dict = {\n",
        "    \"pagerank\": nx.pagerank(G, alpha=0.85, max_iter=1000),\n",
        "    \"katz_centrality\": nx.katz_centrality(G, alpha=0.01),\n",
        "    \"clustering_coefficient\": nx.clustering(G),\n",
        "}\n",
        "\n",
        "\n",
        "def add_alg_info(df):\n",
        "  for algo_name, algo_dict in algorithms_dict.items():\n",
        "    df[algo_name+\"_max\"] = [max(algo_dict[source_node], algo_dict[target_node]) for source_node, target_node in zip(df[\"source_node\"].values, df[\"target_node\"].values)]\n",
        "    df[algo_name+\"_min\"] = [min(algo_dict[source_node], algo_dict[target_node]) for source_node, target_node in zip(df[\"source_node\"].values, df[\"target_node\"].values)]\n",
        "  return df\n",
        "\n",
        "train_features = add_alg_info(train_features)\n",
        "val_features = add_alg_info(val_features)\n",
        "test_features = add_alg_info(test_features)\n",
        "\n",
        "t2 = perf_counter()\n",
        "print(f\"Algorithms information computed in {round((t2-t1)/60,4)} min\")\n",
        "\n",
        "print(\"Train shape : \",train_features.shape)\n",
        "print(\"Val shape : \",val_features.shape)\n",
        "print(\"Test shape : \",test_features.shape)"
      ]
    },
    {
      "cell_type": "code",
      "execution_count": 19,
      "metadata": {
        "id": "Nkzj39HxsDtY",
        "colab": {
          "base_uri": "https://localhost:8080/"
        },
        "outputId": "ad011c86-2a29-4733-bd6e-c2b9b9988407"
      },
      "outputs": [
        {
          "output_type": "stream",
          "name": "stdout",
          "text": [
            "[t-SNE] Computing 91 nearest neighbors...\n",
            "[t-SNE] Indexed 3597 samples in 0.041s...\n",
            "[t-SNE] Computed neighbors for 3597 samples in 1.631s...\n",
            "[t-SNE] Computed conditional probabilities for sample 1000 / 3597\n",
            "[t-SNE] Computed conditional probabilities for sample 2000 / 3597\n",
            "[t-SNE] Computed conditional probabilities for sample 3000 / 3597\n",
            "[t-SNE] Computed conditional probabilities for sample 3597 / 3597\n",
            "[t-SNE] Mean sigma: 0.000000\n",
            "[t-SNE] KL divergence after 250 iterations with early exaggeration: 75.366196\n",
            "[t-SNE] KL divergence after 1000 iterations: 1.299733\n",
            "TSNE information computed in 2.0945 min\n",
            "Train shape :  (8380, 206)\n",
            "Val shape :  (2085, 206)\n",
            "Test shape :  (3481, 205)\n"
          ]
        }
      ],
      "source": [
        "do_tsne = True\n",
        "\n",
        "if do_tsne:\n",
        "  from sklearn.manifold import TSNE\n",
        "\n",
        "  n_components = 3\n",
        "  tsne = TSNE(n_components=n_components, perplexity=30, n_iter=1000, verbose=1)\n",
        "\n",
        "  transformed_embedding = tsne.fit_transform(node_info.drop(columns=[\"node_id\"]).values)\n",
        "  id_to_embedding = {\n",
        "      node_id: embedding\n",
        "      for node_id, embedding in zip(node_info[\"node_id\"], transformed_embedding)\n",
        "  }\n",
        "\n",
        "  def add_tsne(df):\n",
        "    for node in [\"source_node\", \"target_node\"]:\n",
        "        for i in range(n_components):\n",
        "            df[f\"tsne_embedding_{node}_{i}\"] = [id_to_embedding[node][i] for node in df[node].values]\n",
        "    return df\n",
        "\n",
        "\n",
        "  train_features = add_tsne(train_features)\n",
        "  val_features = add_tsne(val_features)\n",
        "  test_features = add_tsne(test_features)\n",
        "\n",
        "  t2 = perf_counter()\n",
        "  print(f\"TSNE information computed in {round((t2-t1)/60,4)} min\")\n",
        "\n",
        "  print(\"Train shape : \",train_features.shape)\n",
        "  print(\"Val shape : \",val_features.shape)\n",
        "  print(\"Test shape : \",test_features.shape)"
      ]
    },
    {
      "cell_type": "markdown",
      "metadata": {
        "id": "MOu0DfczsDtY"
      },
      "source": [
        "## Training"
      ]
    },
    {
      "cell_type": "code",
      "source": [
        "def get_features_cols(train_features,cols_to_remove=None):\n",
        "  \"\"\"returns columns to use a final features for model\"\"\"\n",
        "  train_columns = list(train_features.columns)\n",
        "  train_columns.remove(\"label\")\n",
        "  train_columns.remove(\"source_node\")\n",
        "  train_columns.remove(\"target_node\")\n",
        "  if cols_to_remove:\n",
        "    for col in cols_to_remove:\n",
        "      train_columns.remove(col)\n",
        "  return train_columns"
      ],
      "metadata": {
        "id": "E4fMsQNJjSoS"
      },
      "execution_count": 22,
      "outputs": []
    },
    {
      "cell_type": "markdown",
      "metadata": {
        "id": "-w8Tuxe7NCqv"
      },
      "source": [
        "### Random Forest"
      ]
    },
    {
      "cell_type": "code",
      "execution_count": 31,
      "metadata": {
        "id": "n7KwquvZ7e0a",
        "colab": {
          "base_uri": "https://localhost:8080/"
        },
        "outputId": "a4da3a0c-72bc-4f7f-ed79-0722ca94838d"
      },
      "outputs": [
        {
          "output_type": "stream",
          "name": "stdout",
          "text": [
            "Train accuracy: 1.0, Validation Accuracy: 0.5098321342925659\n"
          ]
        }
      ],
      "source": [
        "columns = get_features_cols(train_features)\n",
        "\n",
        "# Split training data into training and validation sets\n",
        "train_x, val_x = train_features[columns], val_features[columns]\n",
        "train_y, val_y = train_features[\"label\"], val_features[\"label\"]\n",
        "\n",
        "# Train a Random Forest classifier\n",
        "clf = RandomForestClassifier(n_estimators=1000)\n",
        "clf.fit(train_x, train_y)\n",
        "\n",
        "# Validate the model\n",
        "train_pred = clf.predict(train_x)\n",
        "val_pred = clf.predict(val_x)\n",
        "val_accuracy = accuracy_score(val_y, val_pred)\n",
        "train_accuracy = accuracy_score(train_y, train_pred)\n",
        "print(f\"Train accuracy: {train_accuracy}, Validation Accuracy: {val_accuracy}\")"
      ]
    },
    {
      "cell_type": "code",
      "source": [
        "cols_to_remove = [\"shortest_path_length\",\"node2vec_similarity\",\"edge_betweenness_centrality\"]\n",
        "\n",
        "columns = get_features_cols(train_features,cols_to_remove=cols_to_remove)\n",
        "\n",
        "# Split training data into training and validation sets\n",
        "train_x, val_x = train_features[columns], val_features[columns]\n",
        "train_y, val_y = train_features[\"label\"], val_features[\"label\"]\n",
        "\n",
        "# Train a Random Forest classifier\n",
        "clf = RandomForestClassifier(n_estimators=1000)\n",
        "clf.fit(train_x, train_y)\n",
        "\n",
        "# Validate the model\n",
        "train_pred = clf.predict(train_x)\n",
        "val_pred = clf.predict(val_x)\n",
        "val_accuracy = accuracy_score(val_y, val_pred)\n",
        "train_accuracy = accuracy_score(train_y, train_pred)\n",
        "print(f\"Train accuracy: {train_accuracy}, Validation Accuracy: {val_accuracy}\")"
      ],
      "metadata": {
        "colab": {
          "base_uri": "https://localhost:8080/"
        },
        "id": "cev7sFy9SrPj",
        "outputId": "fe5dc2d7-bd10-405b-8d30-fb67e63be8c1"
      },
      "execution_count": 38,
      "outputs": [
        {
          "output_type": "stream",
          "name": "stdout",
          "text": [
            "Train accuracy: 1.0, Validation Accuracy: 0.7453237410071942\n"
          ]
        }
      ]
    },
    {
      "cell_type": "code",
      "source": [
        "cols_to_remove = [\"shortest_path_length\",\"node2vec_similarity\"]\n",
        "\n",
        "columns = get_features_cols(train_features,cols_to_remove=cols_to_remove)\n",
        "\n",
        "# Split training data into training and validation sets\n",
        "train_x, val_x = train_features[columns], val_features[columns]\n",
        "train_y, val_y = train_features[\"label\"], val_features[\"label\"]\n",
        "\n",
        "# Train a Random Forest classifier\n",
        "clf = RandomForestClassifier(n_estimators=1000)\n",
        "clf.fit(train_x, train_y)\n",
        "\n",
        "# Validate the model\n",
        "train_pred = clf.predict(train_x)\n",
        "val_pred = clf.predict(val_x)\n",
        "val_accuracy = accuracy_score(val_y, val_pred)\n",
        "train_accuracy = accuracy_score(train_y, train_pred)\n",
        "print(f\"Train accuracy: {train_accuracy}, Validation Accuracy: {val_accuracy}\")"
      ],
      "metadata": {
        "colab": {
          "base_uri": "https://localhost:8080/"
        },
        "id": "xiNCxh5iS1nB",
        "outputId": "148cef81-8188-44b0-ffde-b86bcf9553a0"
      },
      "execution_count": 39,
      "outputs": [
        {
          "output_type": "stream",
          "name": "stdout",
          "text": [
            "Train accuracy: 1.0, Validation Accuracy: 0.739568345323741\n"
          ]
        }
      ]
    },
    {
      "cell_type": "markdown",
      "source": [
        "### XGBoost"
      ],
      "metadata": {
        "id": "uarks4AQkNMQ"
      }
    },
    {
      "cell_type": "code",
      "execution_count": 32,
      "metadata": {
        "id": "hcUvxX4KsDtZ",
        "colab": {
          "base_uri": "https://localhost:8080/"
        },
        "outputId": "eb487a28-7561-4bd7-8056-c00818835cd1"
      },
      "outputs": [
        {
          "output_type": "stream",
          "name": "stdout",
          "text": [
            "Train accuracy: 1.0, Validation Accuracy: 0.5031175059952039, columns: ['cosine_similarity', 'euclidean_distance', 'nb_common_words', 'jaccard_similarity', 'num_words_max', 'num_words_min', 'mean_keyword_values_max', 'mean_keyword_values_min', 'cluster_keywords_0', 'cluster_keywords_1', 'cluster_keywords_2', 'cluster_keywords_3', 'cluster_keywords_4', 'cluster_keywords_5', 'cluster_keywords_6', 'cluster_keywords_7', 'cluster_keywords_8', 'cluster_keywords_9', 'cluster_keywords_10', 'cluster_keywords_11', 'cluster_keywords_12', 'cluster_keywords_13', 'cluster_keywords_14', 'cluster_keywords_15', 'cluster_keywords_16', 'cluster_keywords_17', 'cluster_keywords_18', 'cluster_keywords_19', 'cluster_keywords_20', 'cluster_keywords_21', 'cluster_keywords_22', 'cluster_keywords_23', 'cluster_keywords_24', 'cluster_keywords_25', 'cluster_keywords_26', 'cluster_keywords_27', 'cluster_keywords_28', 'cluster_keywords_29', 'cluster_keywords_30', 'cluster_keywords_31', 'cluster_keywords_32', 'cluster_keywords_33', 'cluster_keywords_34', 'cluster_keywords_35', 'cluster_keywords_36', 'cluster_keywords_37', 'cluster_keywords_38', 'cluster_keywords_39', 'cluster_keywords_40', 'cluster_keywords_41', 'cluster_keywords_42', 'cluster_keywords_43', 'cluster_keywords_44', 'cluster_keywords_45', 'cluster_keywords_46', 'cluster_keywords_47', 'cluster_keywords_48', 'cluster_keywords_49', 'cluster_keywords_50', 'cluster_keywords_51', 'cluster_keywords_52', 'cluster_keywords_53', 'cluster_keywords_54', 'cluster_keywords_55', 'cluster_keywords_56', 'cluster_keywords_57', 'cluster_keywords_58', 'cluster_keywords_59', 'cluster_keywords_60', 'cluster_keywords_61', 'cluster_keywords_62', 'cluster_keywords_63', 'cluster_keywords_64', 'cluster_keywords_65', 'cluster_keywords_66', 'cluster_keywords_67', 'cluster_keywords_68', 'cluster_keywords_69', 'cluster_keywords_70', 'cluster_keywords_71', 'cluster_keywords_0_1', 'cluster_keywords_1_1', 'cluster_keywords_2_1', 'cluster_keywords_3_1', 'cluster_keywords_4_1', 'cluster_keywords_5_1', 'cluster_keywords_6_1', 'cluster_keywords_7_1', 'cluster_keywords_8_1', 'cluster_keywords_9_1', 'cluster_keywords_10_1', 'cluster_keywords_11_1', 'cluster_keywords_12_1', 'cluster_keywords_13_1', 'cluster_keywords_14_1', 'cluster_keywords_15_1', 'cluster_keywords_16_1', 'cluster_keywords_17_1', 'cluster_keywords_18_1', 'cluster_keywords_19_1', 'cluster_keywords_20_1', 'cluster_keywords_21_1', 'cluster_keywords_22_1', 'cluster_keywords_23_1', 'cluster_keywords_24_1', 'cluster_keywords_25_1', 'cluster_keywords_26_1', 'cluster_keywords_27_1', 'cluster_keywords_28_1', 'cluster_keywords_29_1', 'cluster_keywords_30_1', 'cluster_keywords_31_1', 'cluster_keywords_32_1', 'cluster_keywords_33_1', 'cluster_keywords_34_1', 'cluster_keywords_35_1', 'cluster_keywords_36_1', 'cluster_keywords_37_1', 'cluster_keywords_38_1', 'cluster_keywords_39_1', 'cluster_keywords_40_1', 'cluster_keywords_41_1', 'cluster_keywords_42_1', 'cluster_keywords_0_3', 'cluster_keywords_1_3', 'cluster_keywords_2_3', 'cluster_keywords_3_3', 'cluster_keywords_4_3', 'cluster_keywords_5_3', 'cluster_keywords_6_3', 'cluster_keywords_7_3', 'cluster_keywords_8_3', 'cluster_keywords_9_3', 'cluster_keywords_10_3', 'cluster_keywords_11_3', 'cluster_keywords_12_3', 'cluster_keywords_13_3', 'cluster_keywords_14_3', 'cluster_keywords_15_3', 'cluster_keywords_16_3', 'cluster_keywords_17_3', 'cluster_keywords_0_4', 'cluster_keywords_1_4', 'cluster_keywords_2_4', 'cluster_keywords_3_4', 'cluster_keywords_4_4', 'cluster_keywords_5_4', 'cluster_keywords_6_4', 'cluster_keywords_7_4', 'cluster_keywords_8_4', 'cluster_keywords_9_4', 'cluster_keywords_10_4', 'cluster_keywords_11_4', 'cluster_keywords_12_4', 'cluster_keywords_13_4', 'cluster_keywords_14_4', 'cluster_keywords_15_4', 'cluster_keywords_16_4', 'cluster_keywords_17_4', 'cluster_keywords_18_4', 'cluster_keywords_19_4', 'cluster_keywords_20_4', 'cluster_keywords_21_4', 'cluster_keywords_22_4', 'cluster_keywords_23_4', 'cluster_keywords_24_4', 'cluster_keywords_25_4', 'cluster_keywords_26_4', 'cluster_keywords_27_4', 'cluster_keywords_28_4', 'cluster_keywords_29_4', 'cluster_keywords_30_4', 'cluster_keywords_31_4', 'cluster_keywords_32_4', 'cluster_keywords_33_4', 'cluster_keywords_34_4', 'cluster_keywords_35_4', 'cluster_keywords_36_4', 'cluster_keywords_37_4', 'cluster_keywords_38_4', 'cluster_keywords_39_4', 'cluster_keywords_40_4', 'node2vec_similarity', 'preferential_attachment', 'common_neighbors', 'jaccard_coefficient', 'adamic_adar', 'degree_centrality_max', 'degree_centrality_min', 'edge_betweenness_centrality', 'shortest_path_length', 'pagerank_max', 'pagerank_min', 'katz_centrality_max', 'katz_centrality_min', 'clustering_coefficient_max', 'clustering_coefficient_min', 'tsne_embedding_source_node_0', 'tsne_embedding_source_node_1', 'tsne_embedding_source_node_2', 'tsne_embedding_target_node_0', 'tsne_embedding_target_node_1', 'tsne_embedding_target_node_2']\n"
          ]
        }
      ],
      "source": [
        "train_x, val_x = train_features[columns], val_features[columns]\n",
        "train_y, val_y = train_features[\"label\"], val_features[\"label\"]\n",
        "\n",
        "model = XGBClassifier(\n",
        "    n_estimators=400,\n",
        "    learning_rate=0.01,\n",
        "    objective=\"binary:logistic\",\n",
        "    max_depth=6,\n",
        "    eval_metric=\"logloss\",\n",
        "    subsample=0.6,\n",
        "    colsample_bytree=0.8,\n",
        "    reg_lambda=200,\n",
        ")\n",
        "\n",
        "# Fit the model on the training data\n",
        "model.fit(train_x, train_y)\n",
        "\n",
        "# Make predictions on the test data\n",
        "train_pred = model.predict(train_x)\n",
        "train_accuracy = accuracy_score(train_y, train_pred)\n",
        "\n",
        "# Evaluate the model\n",
        "if len(val_features) > 0:\n",
        "    val_pred = model.predict(val_x)\n",
        "    val_accuracy = accuracy_score(val_y, val_pred)\n",
        "else:\n",
        "    val_accuracy = \"No validation data\"\n",
        "print(f\"Train accuracy: {train_accuracy}, Validation Accuracy: {val_accuracy}, columns: {columns}\")"
      ]
    },
    {
      "cell_type": "markdown",
      "metadata": {
        "id": "8AeihgaEsDtZ"
      },
      "source": [
        "### Best columns for XGBoost"
      ]
    },
    {
      "cell_type": "code",
      "source": [
        "def generate_combinations(lst):\n",
        "    all_combinations = []\n",
        "    for r in range(1, len(lst) + 1):\n",
        "        all_combinations.extend(itertools.combinations(lst, r))\n",
        "    return all_combinations"
      ],
      "metadata": {
        "id": "kTqkzTQzj4VK"
      },
      "execution_count": 33,
      "outputs": []
    },
    {
      "cell_type": "code",
      "execution_count": 34,
      "metadata": {
        "id": "w8Mc0Djp7e0a"
      },
      "outputs": [],
      "source": [
        "do_combinations = False\n",
        "\n",
        "#mdr bande de fous\n",
        "if do_combinations:\n",
        "\n",
        "  best_columns = None\n",
        "  best_val_accuracy = 0\n",
        "  all_columns_combinations = generate_combinations(columns)\n",
        "  pbar = tqdm(all_columns_combinations)\n",
        "  for columns in tqdm(pbar):\n",
        "      columns = list(columns)\n",
        "      # Split training data into training and validation sets\n",
        "      train_x, val_x = train_features[columns], val_features[columns]\n",
        "      train_y, val_y = train_features[\"label\"], val_features[\"label\"]\n",
        "\n",
        "      model = XGBClassifier(\n",
        "          n_estimators=400,\n",
        "          learning_rate=0.01,\n",
        "          objective=\"binary:logistic\",\n",
        "          max_depth=6,\n",
        "          eval_metric=\"logloss\",\n",
        "          subsample=0.6,\n",
        "          colsample_bytree=0.8,\n",
        "          reg_lambda=200,\n",
        "      )\n",
        "\n",
        "      # Fit the model on the training data\n",
        "      model.fit(train_x, train_y)\n",
        "\n",
        "      # Make predictions on the test data\n",
        "      val_pred = model.predict(val_x)\n",
        "      train_pred = model.predict(train_x)\n",
        "\n",
        "      # Evaluate the model\n",
        "      val_accuracy = accuracy_score(val_y, val_pred)\n",
        "      train_accuracy = accuracy_score(train_y, train_pred)\n",
        "      pbar.set_description(\n",
        "          f\"Train accuracy: {train_accuracy}, Validation Accuracy: {val_accuracy}, columns: {columns}\"\n",
        "      )\n",
        "      if val_accuracy > best_val_accuracy:\n",
        "          best_val_accuracy = val_accuracy\n",
        "          best_train_accuracy = train_accuracy\n",
        "          best_columns = columns\n",
        "  print(f\"Best Train accuracy: {best_train_accuracy}, Best Validation Accuracy: {best_val_accuracy}, columns: {best_columns}\")"
      ]
    },
    {
      "cell_type": "code",
      "execution_count": 36,
      "metadata": {
        "id": "YT-D_-lE7e0a",
        "colab": {
          "base_uri": "https://localhost:8080/"
        },
        "outputId": "50cb378b-e9c2-492b-f79a-7802c9b3b8b2"
      },
      "outputs": [
        {
          "output_type": "stream",
          "name": "stdout",
          "text": [
            "Feature: shortest_path_length, Importance: 0.5069069266319275\n",
            "Feature: node2vec_similarity, Importance: 0.30835431814193726\n",
            "Feature: edge_betweenness_centrality, Importance: 0.12641339004039764\n",
            "Feature: pagerank_max, Importance: 0.01984211802482605\n",
            "Feature: preferential_attachment, Importance: 0.01167355664074421\n",
            "Feature: degree_centrality_max, Importance: 0.006623906083405018\n",
            "Feature: degree_centrality_min, Importance: 0.005680940579622984\n",
            "Feature: katz_centrality_min, Importance: 0.0022812618408352137\n",
            "Feature: adamic_adar, Importance: 0.0015501389279961586\n",
            "Feature: cluster_keywords_28, Importance: 0.0011270246468484402\n"
          ]
        }
      ],
      "source": [
        "importances = model.feature_importances_\n",
        "\n",
        "# To make them more readable, zip them with column names into a dictionary\n",
        "feature_importances = dict(zip(train_x.columns, importances))\n",
        "\n",
        "# Sort the features by importance\n",
        "sorted_feature_importances = sorted(\n",
        "    feature_importances.items(), key=lambda x: x[1], reverse=True\n",
        ")\n",
        "\n",
        "for feature, importance in sorted_feature_importances[:10]:\n",
        "    print(f\"Feature: {feature}, Importance: {importance}\")"
      ]
    },
    {
      "cell_type": "markdown",
      "metadata": {
        "id": "TobpLa9ONG8K"
      },
      "source": [
        "### Gridsearch XGBoost"
      ]
    },
    {
      "cell_type": "code",
      "execution_count": 23,
      "metadata": {
        "id": "hlZhl8jLdykr"
      },
      "outputs": [],
      "source": [
        "from sklearn.model_selection import GridSearchCV\n",
        "\n",
        "def xgb_grid_search(param_grid,train_x,train_y,val_x,val_y):\n",
        "  \"\"\"returns accuracies of best xgb with grid search\"\"\"\n",
        "  xgb_classifier = XGBClassifier()\n",
        "  grid_search = GridSearchCV(estimator=xgb_classifier, param_grid=param_grid, cv=3, scoring='accuracy',verbose=1)\n",
        "  grid_search.fit(train_x, train_y)\n",
        "\n",
        "  print(\"Best Parameters:\", grid_search.best_params_)\n",
        "\n",
        "  best_xgb_classifier = grid_search.best_estimator_\n",
        "  train_accuracy = best_xgb_classifier.score(train_x, train_y)\n",
        "  val_accuracy = best_xgb_classifier.score(val_x, val_y)\n",
        "  print(\"Accuracy on train set:\", train_accuracy)\n",
        "  print(\"Accuracy on val set:\", val_accuracy)\n",
        "  return best_xgb_classifier\n",
        "\n",
        "\n",
        "def xgb_importance(model,train_x,plot_max=5):\n",
        "  \"\"\"prints most 5 important features of model\"\"\"\n",
        "  importances = model.feature_importances_\n",
        "  feature_importances = dict(zip(train_x.columns, importances))\n",
        "  sorted_feature_importances = sorted(feature_importances.items(), key=lambda x: x[1], reverse=True)\n",
        "  if plot_max==\"plot_all\":\n",
        "    for feature, importance in sorted_feature_importances:\n",
        "        print(f\"Feature: {feature}, Importance: {importance}\")\n",
        "  else:\n",
        "    for feature, importance in sorted_feature_importances[0:5]:\n",
        "        print(f\"Feature: {feature}, Importance: {importance}\")\n",
        "\n",
        "def xgb_pipeline(train_features,param_grid,cols_to_remove=None,):\n",
        "  train_columns = get_features_cols(train_features,cols_to_remove=cols_to_remove)\n",
        "  train_x, val_x = train_features[train_columns], val_features[train_columns]\n",
        "  train_y, val_y = train_features[\"label\"], val_features[\"label\"]\n",
        "\n",
        "  best_xgb_classifier = xgb_grid_search(param_grid,train_x,train_y,val_x,val_y)\n",
        "  xgb_importance(best_xgb_classifier,train_x)"
      ]
    },
    {
      "cell_type": "code",
      "execution_count": 38,
      "metadata": {
        "id": "yhHMkUCcM0N0",
        "colab": {
          "base_uri": "https://localhost:8080/"
        },
        "outputId": "bec00425-55a8-45a8-bc65-f8813802fe16"
      },
      "outputs": [
        {
          "output_type": "stream",
          "name": "stdout",
          "text": [
            "Fitting 3 folds for each of 288 candidates, totalling 864 fits\n",
            "Best Parameters: {'colsample_bytree': 0.6, 'eval_metric': 'logloss', 'gamma': 0, 'learning_rate': 0.01, 'max_depth': 6, 'n_estimators': 50, 'objective': 'binary:logistic', 'reg_lambda': 1, 'subsample': 0.6}\n",
            "Accuracy on train set: 1.0\n",
            "Accuracy on val set: 0.5031175059952039\n",
            "Feature: shortest_path_length, Importance: 0.5094127655029297\n",
            "Feature: node2vec_similarity, Importance: 0.2427002191543579\n",
            "Feature: edge_betweenness_centrality, Importance: 0.17632955312728882\n",
            "Feature: preferential_attachment, Importance: 0.015941275283694267\n",
            "Feature: pagerank_max, Importance: 0.014850273728370667\n"
          ]
        }
      ],
      "source": [
        "param_grid = {\n",
        "    'n_estimators': [50,100,400],\n",
        "    'objective' : [\"binary:logistic\"],\n",
        "    'max_depth': [6,10],\n",
        "    'learning_rate': [0.01,0.1],\n",
        "    'subsample': [0.6, 0.8],\n",
        "    'colsample_bytree': [0.6, 0.8],\n",
        "    'gamma':[0,0.1],\n",
        "    'eval_metric' : [\"logloss\"],\n",
        "    'reg_lambda': [1,10,200],\n",
        "}\n",
        "\n",
        "xgb_pipeline(train_features,param_grid)"
      ]
    },
    {
      "cell_type": "code",
      "execution_count": 24,
      "metadata": {
        "id": "c0Lem5psfedX",
        "colab": {
          "base_uri": "https://localhost:8080/"
        },
        "outputId": "46426b1f-72ea-4d95-92e8-178c4730bdf8"
      },
      "outputs": [
        {
          "output_type": "stream",
          "name": "stdout",
          "text": [
            "Fitting 3 folds for each of 36 candidates, totalling 108 fits\n",
            "Best Parameters: {'colsample_bytree': 0.6, 'eval_metric': 'logloss', 'gamma': 0, 'learning_rate': 0.01, 'max_depth': 6, 'n_estimators': 100, 'objective': 'binary:logistic', 'reg_lambda': 0.1, 'subsample': 0.6}\n",
            "Accuracy on train set: 0.9992840095465394\n",
            "Accuracy on val set: 0.5702637889688249\n",
            "Feature: node2vec_similarity, Importance: 0.4510824382305145\n",
            "Feature: edge_betweenness_centrality, Importance: 0.27138271927833557\n",
            "Feature: pagerank_max, Importance: 0.04957805201411247\n",
            "Feature: degree_centrality_max, Importance: 0.024955466389656067\n",
            "Feature: preferential_attachment, Importance: 0.01965157873928547\n"
          ]
        }
      ],
      "source": [
        "param_grid = {\n",
        "    'n_estimators': [30,50,100],\n",
        "    'objective' : [\"binary:logistic\"],\n",
        "    'max_depth': [3,6,10],\n",
        "    'learning_rate': [0.001,0.01],\n",
        "    'subsample': [0.6],\n",
        "    'colsample_bytree': [0.6],\n",
        "    'gamma':[0],\n",
        "    'eval_metric' : [\"logloss\"],\n",
        "    'reg_lambda': [0.1,1],\n",
        "}\n",
        "\n",
        "xgb_pipeline(train_features,param_grid,cols_to_remove=[\"shortest_path_length\"])"
      ]
    },
    {
      "cell_type": "code",
      "execution_count": 31,
      "metadata": {
        "id": "C8OLI8_vg87N",
        "colab": {
          "base_uri": "https://localhost:8080/"
        },
        "outputId": "20bd5cb4-cb40-409e-8db8-cad396cbf054"
      },
      "outputs": [
        {
          "output_type": "stream",
          "name": "stdout",
          "text": [
            "Fitting 3 folds for each of 18 candidates, totalling 54 fits\n",
            "Best Parameters: {'colsample_bytree': 0.6, 'eval_metric': 'logloss', 'gamma': 0, 'learning_rate': 0.01, 'max_depth': 20, 'n_estimators': 50, 'objective': 'binary:logistic', 'reg_lambda': 1, 'subsample': 0.6}\n",
            "Accuracy on train set: 0.9736276849642005\n",
            "Accuracy on val set: 0.7223021582733813\n",
            "Feature: edge_betweenness_centrality, Importance: 0.6809560656547546\n",
            "Feature: degree_centrality_max, Importance: 0.025220781564712524\n",
            "Feature: pagerank_max, Importance: 0.02432144619524479\n",
            "Feature: preferential_attachment, Importance: 0.022338829934597015\n",
            "Feature: katz_centrality_min, Importance: 0.01021931879222393\n"
          ]
        }
      ],
      "source": [
        "param_grid = {\n",
        "    'n_estimators': [30,50,100],\n",
        "    'objective' : [\"binary:logistic\"],\n",
        "    'max_depth': [10,20,30],\n",
        "    'learning_rate': [0.01,0.05],\n",
        "    'subsample': [0.6],\n",
        "    'colsample_bytree': [0.6],\n",
        "    'gamma':[0],\n",
        "    'eval_metric' : [\"logloss\"],\n",
        "    'reg_lambda': [1],\n",
        "}\n",
        "\n",
        "\n",
        "xgb_pipeline(train_features,param_grid,cols_to_remove=[\"shortest_path_length\",\"node2vec_similarity\"])"
      ]
    },
    {
      "cell_type": "code",
      "source": [
        "param_grid = {\n",
        "    'n_estimators': [20,30,50],\n",
        "    'objective' : [\"binary:logistic\"],\n",
        "    'max_depth': [10,20,30],\n",
        "    'learning_rate': [0.05],\n",
        "    'subsample': [0.6],\n",
        "    'colsample_bytree': [0.6],\n",
        "    'gamma':[0],\n",
        "    'eval_metric' : [\"logloss\"],\n",
        "    'reg_lambda': [1],\n",
        "}\n",
        "\n",
        "\n",
        "xgb_pipeline(train_features,param_grid,cols_to_remove=[\"shortest_path_length\",\"node2vec_similarity\",\"edge_betweenness_centrality\"])"
      ],
      "metadata": {
        "id": "usnvmc8nyixR",
        "colab": {
          "base_uri": "https://localhost:8080/"
        },
        "outputId": "aacca308-ae76-4826-b2cd-0ce73e458bcc"
      },
      "execution_count": 32,
      "outputs": [
        {
          "output_type": "stream",
          "name": "stdout",
          "text": [
            "Fitting 3 folds for each of 9 candidates, totalling 27 fits\n",
            "Best Parameters: {'colsample_bytree': 0.6, 'eval_metric': 'logloss', 'gamma': 0, 'learning_rate': 0.05, 'max_depth': 20, 'n_estimators': 30, 'objective': 'binary:logistic', 'reg_lambda': 1, 'subsample': 0.6}\n",
            "Accuracy on train set: 0.9713603818615751\n",
            "Accuracy on val set: 0.728537170263789\n",
            "Feature: preferential_attachment, Importance: 0.09978783875703812\n",
            "Feature: pagerank_max, Importance: 0.06362153589725494\n",
            "Feature: katz_centrality_min, Importance: 0.03714245185256004\n",
            "Feature: degree_centrality_max, Importance: 0.032542433589696884\n",
            "Feature: degree_centrality_min, Importance: 0.022479195147752762\n"
          ]
        }
      ]
    },
    {
      "cell_type": "markdown",
      "metadata": {
        "id": "shOnFb4esDtb"
      },
      "source": [
        "## Build submission"
      ]
    },
    {
      "cell_type": "code",
      "execution_count": 44,
      "metadata": {
        "id": "oJXTeubxsDtb"
      },
      "outputs": [],
      "source": [
        "def make_final_model(cols_to_remove, params, importance=True, xgb=True):\n",
        "  X_test = test_features[get_features_cols(train_features,cols_to_remove=cols_to_remove)]\n",
        "  X_train = train_features[get_features_cols(train_features,cols_to_remove=cols_to_remove)]\n",
        "  y_train = train_features[\"label\"]\n",
        "\n",
        "  if xgb:\n",
        "    model = XGBClassifier(**params)\n",
        "  else:\n",
        "    model = RandomForestClassifier(n_estimators=1000)\n",
        "\n",
        "  model.fit(X_train,y_train)\n",
        "\n",
        "  if importance:\n",
        "    xgb_importance(model,X_train,plot_max=10)\n",
        "\n",
        "  test_predictions = model.predict(X_test)\n",
        "  predictions_dict = {(test_features.iloc[i][\"source_node\"],test_features.iloc[i][\"target_node\"]):prediction for i,prediction in enumerate(test_predictions)}\n",
        "\n",
        "  return predictions_dict\n",
        "\n",
        "\n",
        "cols_to_remove = [\"shortest_path_length\",\"node2vec_similarity\",\"edge_betweenness_centrality\"]\n",
        "\n",
        "columns = get_features_cols(train_features,cols_to_remove=cols_to_remove)\n",
        "\n",
        "\n",
        "def get_submissions(df_,predictions_dict):\n",
        "  df = df_.copy()\n",
        "  df = df.reset_index(drop=True)\n",
        "\n",
        "  self_loops = np.where(df[\"source_node\"] == df[\"target_node\"])[0]\n",
        "  submissions = []\n",
        "  for i in df.index:\n",
        "    if i in self_loops:\n",
        "      submissions.append(1)\n",
        "    else:\n",
        "      submissions.append(predictions_dict[(df.iloc[i][\"source_node\"],df.iloc[i][\"target_node\"])])\n",
        "  return submissions\n"
      ]
    },
    {
      "cell_type": "code",
      "execution_count": 37,
      "metadata": {
        "id": "jhGkjKUK7e0b",
        "colab": {
          "base_uri": "https://localhost:8080/"
        },
        "outputId": "c22a93a4-d0e3-4da8-e79f-a263af9beea9"
      },
      "outputs": [
        {
          "output_type": "stream",
          "name": "stdout",
          "text": [
            "Feature: edge_betweenness_centrality, Importance: 0.6809560656547546\n",
            "Feature: degree_centrality_max, Importance: 0.025220781564712524\n",
            "Feature: pagerank_max, Importance: 0.02432144619524479\n",
            "Feature: preferential_attachment, Importance: 0.022338829934597015\n",
            "Feature: katz_centrality_min, Importance: 0.01021931879222393\n",
            "Sumissions shape :  (3498, 2)\n"
          ]
        }
      ],
      "source": [
        "cols_to_remove = [\"shortest_path_length\",\"node2vec_similarity\"]\n",
        "params = {'colsample_bytree': 0.6, 'eval_metric': 'logloss', 'gamma': 0, 'learning_rate': 0.01, 'max_depth': 20, 'n_estimators': 50, 'objective': 'binary:logistic', 'reg_lambda': 1, 'subsample': 0.6}\n",
        "\n",
        "predictions_dict = make_final_model(cols_to_remove, params)\n",
        "submission_df = pd.DataFrame({\"ID\":range(len(test_data)),\"Predicted\":get_submissions(test_data,predictions_dict)})\n",
        "print(\"Sumissions shape : \",submission_df.shape)\n",
        "submission_df.to_csv(\"submission.csv\", index=False)"
      ]
    },
    {
      "cell_type": "code",
      "source": [
        "cols_to_remove = [\"shortest_path_length\",\"node2vec_similarity\",\"edge_betweenness_centrality\"]\n",
        "params = {'colsample_bytree': 0.6, 'eval_metric': 'logloss', 'gamma': 0, 'learning_rate': 0.05, 'max_depth': 20, 'n_estimators': 30, 'objective': 'binary:logistic', 'reg_lambda': 1, 'subsample': 0.6}\n",
        "\n",
        "predictions_dict = make_final_model(cols_to_remove, params)\n",
        "submission_df = pd.DataFrame({\"ID\":range(len(test_data)),\"Predicted\":get_submissions(test_data,predictions_dict)})\n",
        "print(\"Sumissions shape : \",submission_df.shape)\n",
        "submission_df.to_csv(\"submission2.csv\", index=False)"
      ],
      "metadata": {
        "colab": {
          "base_uri": "https://localhost:8080/"
        },
        "id": "n7Av0FBJQgWo",
        "outputId": "f8d28e1d-7047-4588-8fd6-349ee5fcc211"
      },
      "execution_count": 36,
      "outputs": [
        {
          "output_type": "stream",
          "name": "stdout",
          "text": [
            "Feature: preferential_attachment, Importance: 0.09978783875703812\n",
            "Feature: pagerank_max, Importance: 0.06362153589725494\n",
            "Feature: katz_centrality_min, Importance: 0.03714245185256004\n",
            "Feature: degree_centrality_max, Importance: 0.032542433589696884\n",
            "Feature: degree_centrality_min, Importance: 0.022479195147752762\n",
            "Sumissions shape :  (3498, 2)\n"
          ]
        }
      ]
    },
    {
      "cell_type": "code",
      "source": [
        "cols_to_remove = [\"shortest_path_length\",\"node2vec_similarity\",]\n",
        "params = None\n",
        "\n",
        "predictions_dict = make_final_model(cols_to_remove, params, xgb=False)\n",
        "submission_df = pd.DataFrame({\"ID\":range(len(test_data)),\"Predicted\":get_submissions(test_data,predictions_dict)})\n",
        "print(\"Sumissions shape : \",submission_df.shape)\n",
        "submission_df.to_csv(\"submission3.csv\", index=False)"
      ],
      "metadata": {
        "colab": {
          "base_uri": "https://localhost:8080/"
        },
        "id": "oU1RIcGVTVdE",
        "outputId": "13b9274d-a391-4239-b4e1-e48f3b33ba52"
      },
      "execution_count": 43,
      "outputs": [
        {
          "output_type": "stream",
          "name": "stdout",
          "text": [
            "Feature: edge_betweenness_centrality, Importance: 0.19252623322594364\n",
            "Feature: pagerank_max, Importance: 0.09343904397367456\n",
            "Feature: katz_centrality_min, Importance: 0.07785389755790846\n",
            "Feature: preferential_attachment, Importance: 0.07207038987201785\n",
            "Feature: degree_centrality_max, Importance: 0.0653360202654001\n",
            "Sumissions shape :  (3498, 2)\n"
          ]
        }
      ]
    }
  ],
  "metadata": {
    "colab": {
      "collapsed_sections": [
        "dI-S9PGv72nN",
        "ZzCp8lY879OW",
        "dk6kM465sDtU",
        "Hwtc1uf88Gku",
        "-w8Tuxe7NCqv",
        "uarks4AQkNMQ",
        "8AeihgaEsDtZ",
        "TobpLa9ONG8K"
      ],
      "provenance": []
    },
    "kernelspec": {
      "display_name": "Python 3",
      "language": "python",
      "name": "python3"
    },
    "language_info": {
      "codemirror_mode": {
        "name": "ipython",
        "version": 3
      },
      "file_extension": ".py",
      "mimetype": "text/x-python",
      "name": "python",
      "nbconvert_exporter": "python",
      "pygments_lexer": "ipython3",
      "version": "3.10.9"
    },
    "widgets": {
      "application/vnd.jupyter.widget-state+json": {
        "19149889258a4517838a360ce0a8774a": {
          "model_module": "@jupyter-widgets/controls",
          "model_name": "HBoxModel",
          "model_module_version": "1.5.0",
          "state": {
            "_dom_classes": [],
            "_model_module": "@jupyter-widgets/controls",
            "_model_module_version": "1.5.0",
            "_model_name": "HBoxModel",
            "_view_count": null,
            "_view_module": "@jupyter-widgets/controls",
            "_view_module_version": "1.5.0",
            "_view_name": "HBoxView",
            "box_style": "",
            "children": [
              "IPY_MODEL_42f234b3482045cf88903fc6578ad5d9",
              "IPY_MODEL_2c8d5f411dde40779eae09199514ae5d",
              "IPY_MODEL_7f550da892c6438ebd52397227540f7f"
            ],
            "layout": "IPY_MODEL_92e4167c401942d6bfa6b227b1e46f0b"
          }
        },
        "42f234b3482045cf88903fc6578ad5d9": {
          "model_module": "@jupyter-widgets/controls",
          "model_name": "HTMLModel",
          "model_module_version": "1.5.0",
          "state": {
            "_dom_classes": [],
            "_model_module": "@jupyter-widgets/controls",
            "_model_module_version": "1.5.0",
            "_model_name": "HTMLModel",
            "_view_count": null,
            "_view_module": "@jupyter-widgets/controls",
            "_view_module_version": "1.5.0",
            "_view_name": "HTMLView",
            "description": "",
            "description_tooltip": null,
            "layout": "IPY_MODEL_bd73b7e1c4864c68ae63ab2794ce8e51",
            "placeholder": "​",
            "style": "IPY_MODEL_1ffa7829947f48ca8bb7d633aab92243",
            "value": "100%"
          }
        },
        "2c8d5f411dde40779eae09199514ae5d": {
          "model_module": "@jupyter-widgets/controls",
          "model_name": "FloatProgressModel",
          "model_module_version": "1.5.0",
          "state": {
            "_dom_classes": [],
            "_model_module": "@jupyter-widgets/controls",
            "_model_module_version": "1.5.0",
            "_model_name": "FloatProgressModel",
            "_view_count": null,
            "_view_module": "@jupyter-widgets/controls",
            "_view_module_version": "1.5.0",
            "_view_name": "ProgressView",
            "bar_style": "success",
            "description": "",
            "description_tooltip": null,
            "layout": "IPY_MODEL_c850fe2757fc4ce7a22090ec38595f81",
            "max": 932,
            "min": 0,
            "orientation": "horizontal",
            "style": "IPY_MODEL_3b5884dd752e4427a0721dae412ff595",
            "value": 932
          }
        },
        "7f550da892c6438ebd52397227540f7f": {
          "model_module": "@jupyter-widgets/controls",
          "model_name": "HTMLModel",
          "model_module_version": "1.5.0",
          "state": {
            "_dom_classes": [],
            "_model_module": "@jupyter-widgets/controls",
            "_model_module_version": "1.5.0",
            "_model_name": "HTMLModel",
            "_view_count": null,
            "_view_module": "@jupyter-widgets/controls",
            "_view_module_version": "1.5.0",
            "_view_name": "HTMLView",
            "description": "",
            "description_tooltip": null,
            "layout": "IPY_MODEL_575eea9c38d54e2a890adad19457d543",
            "placeholder": "​",
            "style": "IPY_MODEL_7b0551ae4ad945ebb45262adce85a215",
            "value": " 932/932 [01:02&lt;00:00, 23.36it/s]"
          }
        },
        "92e4167c401942d6bfa6b227b1e46f0b": {
          "model_module": "@jupyter-widgets/base",
          "model_name": "LayoutModel",
          "model_module_version": "1.2.0",
          "state": {
            "_model_module": "@jupyter-widgets/base",
            "_model_module_version": "1.2.0",
            "_model_name": "LayoutModel",
            "_view_count": null,
            "_view_module": "@jupyter-widgets/base",
            "_view_module_version": "1.2.0",
            "_view_name": "LayoutView",
            "align_content": null,
            "align_items": null,
            "align_self": null,
            "border": null,
            "bottom": null,
            "display": null,
            "flex": null,
            "flex_flow": null,
            "grid_area": null,
            "grid_auto_columns": null,
            "grid_auto_flow": null,
            "grid_auto_rows": null,
            "grid_column": null,
            "grid_gap": null,
            "grid_row": null,
            "grid_template_areas": null,
            "grid_template_columns": null,
            "grid_template_rows": null,
            "height": null,
            "justify_content": null,
            "justify_items": null,
            "left": null,
            "margin": null,
            "max_height": null,
            "max_width": null,
            "min_height": null,
            "min_width": null,
            "object_fit": null,
            "object_position": null,
            "order": null,
            "overflow": null,
            "overflow_x": null,
            "overflow_y": null,
            "padding": null,
            "right": null,
            "top": null,
            "visibility": null,
            "width": null
          }
        },
        "bd73b7e1c4864c68ae63ab2794ce8e51": {
          "model_module": "@jupyter-widgets/base",
          "model_name": "LayoutModel",
          "model_module_version": "1.2.0",
          "state": {
            "_model_module": "@jupyter-widgets/base",
            "_model_module_version": "1.2.0",
            "_model_name": "LayoutModel",
            "_view_count": null,
            "_view_module": "@jupyter-widgets/base",
            "_view_module_version": "1.2.0",
            "_view_name": "LayoutView",
            "align_content": null,
            "align_items": null,
            "align_self": null,
            "border": null,
            "bottom": null,
            "display": null,
            "flex": null,
            "flex_flow": null,
            "grid_area": null,
            "grid_auto_columns": null,
            "grid_auto_flow": null,
            "grid_auto_rows": null,
            "grid_column": null,
            "grid_gap": null,
            "grid_row": null,
            "grid_template_areas": null,
            "grid_template_columns": null,
            "grid_template_rows": null,
            "height": null,
            "justify_content": null,
            "justify_items": null,
            "left": null,
            "margin": null,
            "max_height": null,
            "max_width": null,
            "min_height": null,
            "min_width": null,
            "object_fit": null,
            "object_position": null,
            "order": null,
            "overflow": null,
            "overflow_x": null,
            "overflow_y": null,
            "padding": null,
            "right": null,
            "top": null,
            "visibility": null,
            "width": null
          }
        },
        "1ffa7829947f48ca8bb7d633aab92243": {
          "model_module": "@jupyter-widgets/controls",
          "model_name": "DescriptionStyleModel",
          "model_module_version": "1.5.0",
          "state": {
            "_model_module": "@jupyter-widgets/controls",
            "_model_module_version": "1.5.0",
            "_model_name": "DescriptionStyleModel",
            "_view_count": null,
            "_view_module": "@jupyter-widgets/base",
            "_view_module_version": "1.2.0",
            "_view_name": "StyleView",
            "description_width": ""
          }
        },
        "c850fe2757fc4ce7a22090ec38595f81": {
          "model_module": "@jupyter-widgets/base",
          "model_name": "LayoutModel",
          "model_module_version": "1.2.0",
          "state": {
            "_model_module": "@jupyter-widgets/base",
            "_model_module_version": "1.2.0",
            "_model_name": "LayoutModel",
            "_view_count": null,
            "_view_module": "@jupyter-widgets/base",
            "_view_module_version": "1.2.0",
            "_view_name": "LayoutView",
            "align_content": null,
            "align_items": null,
            "align_self": null,
            "border": null,
            "bottom": null,
            "display": null,
            "flex": null,
            "flex_flow": null,
            "grid_area": null,
            "grid_auto_columns": null,
            "grid_auto_flow": null,
            "grid_auto_rows": null,
            "grid_column": null,
            "grid_gap": null,
            "grid_row": null,
            "grid_template_areas": null,
            "grid_template_columns": null,
            "grid_template_rows": null,
            "height": null,
            "justify_content": null,
            "justify_items": null,
            "left": null,
            "margin": null,
            "max_height": null,
            "max_width": null,
            "min_height": null,
            "min_width": null,
            "object_fit": null,
            "object_position": null,
            "order": null,
            "overflow": null,
            "overflow_x": null,
            "overflow_y": null,
            "padding": null,
            "right": null,
            "top": null,
            "visibility": null,
            "width": null
          }
        },
        "3b5884dd752e4427a0721dae412ff595": {
          "model_module": "@jupyter-widgets/controls",
          "model_name": "ProgressStyleModel",
          "model_module_version": "1.5.0",
          "state": {
            "_model_module": "@jupyter-widgets/controls",
            "_model_module_version": "1.5.0",
            "_model_name": "ProgressStyleModel",
            "_view_count": null,
            "_view_module": "@jupyter-widgets/base",
            "_view_module_version": "1.2.0",
            "_view_name": "StyleView",
            "bar_color": null,
            "description_width": ""
          }
        },
        "575eea9c38d54e2a890adad19457d543": {
          "model_module": "@jupyter-widgets/base",
          "model_name": "LayoutModel",
          "model_module_version": "1.2.0",
          "state": {
            "_model_module": "@jupyter-widgets/base",
            "_model_module_version": "1.2.0",
            "_model_name": "LayoutModel",
            "_view_count": null,
            "_view_module": "@jupyter-widgets/base",
            "_view_module_version": "1.2.0",
            "_view_name": "LayoutView",
            "align_content": null,
            "align_items": null,
            "align_self": null,
            "border": null,
            "bottom": null,
            "display": null,
            "flex": null,
            "flex_flow": null,
            "grid_area": null,
            "grid_auto_columns": null,
            "grid_auto_flow": null,
            "grid_auto_rows": null,
            "grid_column": null,
            "grid_gap": null,
            "grid_row": null,
            "grid_template_areas": null,
            "grid_template_columns": null,
            "grid_template_rows": null,
            "height": null,
            "justify_content": null,
            "justify_items": null,
            "left": null,
            "margin": null,
            "max_height": null,
            "max_width": null,
            "min_height": null,
            "min_width": null,
            "object_fit": null,
            "object_position": null,
            "order": null,
            "overflow": null,
            "overflow_x": null,
            "overflow_y": null,
            "padding": null,
            "right": null,
            "top": null,
            "visibility": null,
            "width": null
          }
        },
        "7b0551ae4ad945ebb45262adce85a215": {
          "model_module": "@jupyter-widgets/controls",
          "model_name": "DescriptionStyleModel",
          "model_module_version": "1.5.0",
          "state": {
            "_model_module": "@jupyter-widgets/controls",
            "_model_module_version": "1.5.0",
            "_model_name": "DescriptionStyleModel",
            "_view_count": null,
            "_view_module": "@jupyter-widgets/base",
            "_view_module_version": "1.2.0",
            "_view_name": "StyleView",
            "description_width": ""
          }
        },
        "37f7f183b90641bcb5584fe15e832167": {
          "model_module": "@jupyter-widgets/controls",
          "model_name": "HBoxModel",
          "model_module_version": "1.5.0",
          "state": {
            "_dom_classes": [],
            "_model_module": "@jupyter-widgets/controls",
            "_model_module_version": "1.5.0",
            "_model_name": "HBoxModel",
            "_view_count": null,
            "_view_module": "@jupyter-widgets/controls",
            "_view_module_version": "1.5.0",
            "_view_name": "HBoxView",
            "box_style": "",
            "children": [
              "IPY_MODEL_5856295fe225435584e33f3fbd7ed247",
              "IPY_MODEL_dc546c2311e34ba18a23f3fde515e9ab",
              "IPY_MODEL_26649564bf8042e4a0d7f586cac30cf1"
            ],
            "layout": "IPY_MODEL_9b46b86402664cdfa2cb9be499ccaba0"
          }
        },
        "5856295fe225435584e33f3fbd7ed247": {
          "model_module": "@jupyter-widgets/controls",
          "model_name": "HTMLModel",
          "model_module_version": "1.5.0",
          "state": {
            "_dom_classes": [],
            "_model_module": "@jupyter-widgets/controls",
            "_model_module_version": "1.5.0",
            "_model_name": "HTMLModel",
            "_view_count": null,
            "_view_module": "@jupyter-widgets/controls",
            "_view_module_version": "1.5.0",
            "_view_name": "HTMLView",
            "description": "",
            "description_tooltip": null,
            "layout": "IPY_MODEL_d953f4d569f947b79df5a01f19ed4bc6",
            "placeholder": "​",
            "style": "IPY_MODEL_e4a71b33ee1c4659a01516627abd2f97",
            "value": "Computing transition probabilities: 100%"
          }
        },
        "dc546c2311e34ba18a23f3fde515e9ab": {
          "model_module": "@jupyter-widgets/controls",
          "model_name": "FloatProgressModel",
          "model_module_version": "1.5.0",
          "state": {
            "_dom_classes": [],
            "_model_module": "@jupyter-widgets/controls",
            "_model_module_version": "1.5.0",
            "_model_name": "FloatProgressModel",
            "_view_count": null,
            "_view_module": "@jupyter-widgets/controls",
            "_view_module_version": "1.5.0",
            "_view_name": "ProgressView",
            "bar_style": "success",
            "description": "",
            "description_tooltip": null,
            "layout": "IPY_MODEL_80d567cf32ff4712b79fdf57eda58b2a",
            "max": 3597,
            "min": 0,
            "orientation": "horizontal",
            "style": "IPY_MODEL_0ceae9877e8843fa9d356f38bc307bcc",
            "value": 3597
          }
        },
        "26649564bf8042e4a0d7f586cac30cf1": {
          "model_module": "@jupyter-widgets/controls",
          "model_name": "HTMLModel",
          "model_module_version": "1.5.0",
          "state": {
            "_dom_classes": [],
            "_model_module": "@jupyter-widgets/controls",
            "_model_module_version": "1.5.0",
            "_model_name": "HTMLModel",
            "_view_count": null,
            "_view_module": "@jupyter-widgets/controls",
            "_view_module_version": "1.5.0",
            "_view_name": "HTMLView",
            "description": "",
            "description_tooltip": null,
            "layout": "IPY_MODEL_eca1a9d20b2d43a18bfca24ad6113c20",
            "placeholder": "​",
            "style": "IPY_MODEL_607a4f04f19d4aa9aa9fadf9ca8937ab",
            "value": " 3597/3597 [00:01&lt;00:00, 2705.91it/s]"
          }
        },
        "9b46b86402664cdfa2cb9be499ccaba0": {
          "model_module": "@jupyter-widgets/base",
          "model_name": "LayoutModel",
          "model_module_version": "1.2.0",
          "state": {
            "_model_module": "@jupyter-widgets/base",
            "_model_module_version": "1.2.0",
            "_model_name": "LayoutModel",
            "_view_count": null,
            "_view_module": "@jupyter-widgets/base",
            "_view_module_version": "1.2.0",
            "_view_name": "LayoutView",
            "align_content": null,
            "align_items": null,
            "align_self": null,
            "border": null,
            "bottom": null,
            "display": null,
            "flex": null,
            "flex_flow": null,
            "grid_area": null,
            "grid_auto_columns": null,
            "grid_auto_flow": null,
            "grid_auto_rows": null,
            "grid_column": null,
            "grid_gap": null,
            "grid_row": null,
            "grid_template_areas": null,
            "grid_template_columns": null,
            "grid_template_rows": null,
            "height": null,
            "justify_content": null,
            "justify_items": null,
            "left": null,
            "margin": null,
            "max_height": null,
            "max_width": null,
            "min_height": null,
            "min_width": null,
            "object_fit": null,
            "object_position": null,
            "order": null,
            "overflow": null,
            "overflow_x": null,
            "overflow_y": null,
            "padding": null,
            "right": null,
            "top": null,
            "visibility": null,
            "width": null
          }
        },
        "d953f4d569f947b79df5a01f19ed4bc6": {
          "model_module": "@jupyter-widgets/base",
          "model_name": "LayoutModel",
          "model_module_version": "1.2.0",
          "state": {
            "_model_module": "@jupyter-widgets/base",
            "_model_module_version": "1.2.0",
            "_model_name": "LayoutModel",
            "_view_count": null,
            "_view_module": "@jupyter-widgets/base",
            "_view_module_version": "1.2.0",
            "_view_name": "LayoutView",
            "align_content": null,
            "align_items": null,
            "align_self": null,
            "border": null,
            "bottom": null,
            "display": null,
            "flex": null,
            "flex_flow": null,
            "grid_area": null,
            "grid_auto_columns": null,
            "grid_auto_flow": null,
            "grid_auto_rows": null,
            "grid_column": null,
            "grid_gap": null,
            "grid_row": null,
            "grid_template_areas": null,
            "grid_template_columns": null,
            "grid_template_rows": null,
            "height": null,
            "justify_content": null,
            "justify_items": null,
            "left": null,
            "margin": null,
            "max_height": null,
            "max_width": null,
            "min_height": null,
            "min_width": null,
            "object_fit": null,
            "object_position": null,
            "order": null,
            "overflow": null,
            "overflow_x": null,
            "overflow_y": null,
            "padding": null,
            "right": null,
            "top": null,
            "visibility": null,
            "width": null
          }
        },
        "e4a71b33ee1c4659a01516627abd2f97": {
          "model_module": "@jupyter-widgets/controls",
          "model_name": "DescriptionStyleModel",
          "model_module_version": "1.5.0",
          "state": {
            "_model_module": "@jupyter-widgets/controls",
            "_model_module_version": "1.5.0",
            "_model_name": "DescriptionStyleModel",
            "_view_count": null,
            "_view_module": "@jupyter-widgets/base",
            "_view_module_version": "1.2.0",
            "_view_name": "StyleView",
            "description_width": ""
          }
        },
        "80d567cf32ff4712b79fdf57eda58b2a": {
          "model_module": "@jupyter-widgets/base",
          "model_name": "LayoutModel",
          "model_module_version": "1.2.0",
          "state": {
            "_model_module": "@jupyter-widgets/base",
            "_model_module_version": "1.2.0",
            "_model_name": "LayoutModel",
            "_view_count": null,
            "_view_module": "@jupyter-widgets/base",
            "_view_module_version": "1.2.0",
            "_view_name": "LayoutView",
            "align_content": null,
            "align_items": null,
            "align_self": null,
            "border": null,
            "bottom": null,
            "display": null,
            "flex": null,
            "flex_flow": null,
            "grid_area": null,
            "grid_auto_columns": null,
            "grid_auto_flow": null,
            "grid_auto_rows": null,
            "grid_column": null,
            "grid_gap": null,
            "grid_row": null,
            "grid_template_areas": null,
            "grid_template_columns": null,
            "grid_template_rows": null,
            "height": null,
            "justify_content": null,
            "justify_items": null,
            "left": null,
            "margin": null,
            "max_height": null,
            "max_width": null,
            "min_height": null,
            "min_width": null,
            "object_fit": null,
            "object_position": null,
            "order": null,
            "overflow": null,
            "overflow_x": null,
            "overflow_y": null,
            "padding": null,
            "right": null,
            "top": null,
            "visibility": null,
            "width": null
          }
        },
        "0ceae9877e8843fa9d356f38bc307bcc": {
          "model_module": "@jupyter-widgets/controls",
          "model_name": "ProgressStyleModel",
          "model_module_version": "1.5.0",
          "state": {
            "_model_module": "@jupyter-widgets/controls",
            "_model_module_version": "1.5.0",
            "_model_name": "ProgressStyleModel",
            "_view_count": null,
            "_view_module": "@jupyter-widgets/base",
            "_view_module_version": "1.2.0",
            "_view_name": "StyleView",
            "bar_color": null,
            "description_width": ""
          }
        },
        "eca1a9d20b2d43a18bfca24ad6113c20": {
          "model_module": "@jupyter-widgets/base",
          "model_name": "LayoutModel",
          "model_module_version": "1.2.0",
          "state": {
            "_model_module": "@jupyter-widgets/base",
            "_model_module_version": "1.2.0",
            "_model_name": "LayoutModel",
            "_view_count": null,
            "_view_module": "@jupyter-widgets/base",
            "_view_module_version": "1.2.0",
            "_view_name": "LayoutView",
            "align_content": null,
            "align_items": null,
            "align_self": null,
            "border": null,
            "bottom": null,
            "display": null,
            "flex": null,
            "flex_flow": null,
            "grid_area": null,
            "grid_auto_columns": null,
            "grid_auto_flow": null,
            "grid_auto_rows": null,
            "grid_column": null,
            "grid_gap": null,
            "grid_row": null,
            "grid_template_areas": null,
            "grid_template_columns": null,
            "grid_template_rows": null,
            "height": null,
            "justify_content": null,
            "justify_items": null,
            "left": null,
            "margin": null,
            "max_height": null,
            "max_width": null,
            "min_height": null,
            "min_width": null,
            "object_fit": null,
            "object_position": null,
            "order": null,
            "overflow": null,
            "overflow_x": null,
            "overflow_y": null,
            "padding": null,
            "right": null,
            "top": null,
            "visibility": null,
            "width": null
          }
        },
        "607a4f04f19d4aa9aa9fadf9ca8937ab": {
          "model_module": "@jupyter-widgets/controls",
          "model_name": "DescriptionStyleModel",
          "model_module_version": "1.5.0",
          "state": {
            "_model_module": "@jupyter-widgets/controls",
            "_model_module_version": "1.5.0",
            "_model_name": "DescriptionStyleModel",
            "_view_count": null,
            "_view_module": "@jupyter-widgets/base",
            "_view_module_version": "1.2.0",
            "_view_name": "StyleView",
            "description_width": ""
          }
        }
      }
    }
  },
  "nbformat": 4,
  "nbformat_minor": 0
}